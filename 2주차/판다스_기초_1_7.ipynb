{
  "nbformat": 4,
  "nbformat_minor": 0,
  "metadata": {
    "colab": {
      "name": "판다스 기초 1.7",
      "provenance": [],
      "authorship_tag": "ABX9TyNUR7c+5k9BQdqSQcwMqq5Y",
      "include_colab_link": true
    },
    "kernelspec": {
      "name": "python3",
      "display_name": "Python 3"
    }
  },
  "cells": [
    {
      "cell_type": "markdown",
      "metadata": {
        "id": "view-in-github",
        "colab_type": "text"
      },
      "source": [
        "<a href=\"https://colab.research.google.com/github/kiyer722/SOLUX_summer_data/blob/master/2%EC%A3%BC%EC%B0%A8/%ED%8C%90%EB%8B%A4%EC%8A%A4_%EA%B8%B0%EC%B4%88_1_7.ipynb\" target=\"_parent\"><img src=\"https://colab.research.google.com/assets/colab-badge.svg\" alt=\"Open In Colab\"/></a>"
      ]
    },
    {
      "cell_type": "code",
      "metadata": {
        "id": "qNuKJgTcIe8W",
        "colab_type": "code",
        "colab": {}
      },
      "source": [
        "import pandas as pd"
      ],
      "execution_count": null,
      "outputs": []
    },
    {
      "cell_type": "code",
      "metadata": {
        "id": "OUwOxLgHIgNr",
        "colab_type": "code",
        "colab": {}
      },
      "source": [
        "friends_dict_list = [{'name':'John','age':15,\"job\":'student'},\n",
        "          {'name':'Nate','age':25,\"job\":'developer'},\n",
        "          {'name':'Jenny','age':30,\"job\":'teacher'}]\n",
        "df=pd.DateFrame(friends_dict_list,\n",
        "               columns=['name','age','job'])"
      ],
      "execution_count": null,
      "outputs": []
    },
    {
      "cell_type": "code",
      "metadata": {
        "id": "1WCSg0duIg_T",
        "colab_type": "code",
        "colab": {}
      },
      "source": [
        "df['salary']=0 #새로운 열 삽입"
      ],
      "execution_count": null,
      "outputs": []
    },
    {
      "cell_type": "code",
      "metadata": {
        "id": "14Z3FBbFIho8",
        "colab_type": "code",
        "colab": {}
      },
      "source": [
        "#넘파이를 사용한 샐러리 항목 수정\n",
        "import numpy as np\n",
        "df['salary']=np.where(df['job']!='student','yes','no')\n",
        "#스튜던트가 아닌애들은 샐러리 예스로 나옴"
      ],
      "execution_count": null,
      "outputs": []
    },
    {
      "cell_type": "code",
      "metadata": {
        "id": "ROdWWru3IirJ",
        "colab_type": "code",
        "colab": {}
      },
      "source": [
        "#시험성적\n",
        "friends_dict_list = [{'name':'John','midterm':95,\"final\":85},\n",
        "          {'name':'Nate','midterm':85,\"final\":80},\n",
        "          {'name':'Jenny','midterm':30,\"final\":10}]\n",
        "df=pd.DateFrame(friends_dict_list,\n",
        "               columns=['name','midterm','final'])\n",
        "#총점추가하기\n",
        "df['total']=df['midterm']+df['final']\n",
        "#평균 추가하기\n",
        "df['average']=df['total']/2\n",
        "#ABC매기기\n",
        "grades=[]\n",
        "for row in df['average']:\n",
        "    if row>=90:\n",
        "        grades.append('A')\n",
        "    elif row>=80:\n",
        "        grades.append('B')\n",
        "    else:\n",
        "        grades.append('F')\n",
        "df['grade']=grades\n",
        "#PF로 변경해보자\n",
        "def pass_or_fail(row):\n",
        "    if row !=F:\n",
        "        return \"Pass\"\n",
        "    else:\n",
        "        return \"Fail\"\n",
        "df.grade=df.grade.apply(pass_or_fail)"
      ],
      "execution_count": null,
      "outputs": []
    },
    {
      "cell_type": "code",
      "metadata": {
        "id": "38VyLDpTIj1M",
        "colab_type": "code",
        "colab": {}
      },
      "source": [
        "#피쳐엔지리어링-익스트렉션\n",
        "data_list=[\n",
        "    {\n",
        "        'yyyy-mm-dd':'2000-06-27'\n",
        "    },\n",
        "    {\n",
        "        'yyyy-mm-dd':'2007-10-27'\n",
        "    },\n",
        "]\n",
        "df=pd.DataFrame(date_list,columns=['yyyy-mm-dd'])\n",
        "#연도만 따로 빼고싶어! 열만들기\n",
        "def extract_year(row):\n",
        "    return row.spilt('-')[0]\n",
        "df['year']=df['yyyy-mm-dd'].apply(extract_year)"
      ],
      "execution_count": null,
      "outputs": []
    },
    {
      "cell_type": "code",
      "metadata": {
        "id": "TZCEhPC2Ikup",
        "colab_type": "code",
        "colab": {}
      },
      "source": [
        "#행만들기\n",
        "df2=pd.DateFrame(\n",
        "[\n",
        "    ['Ben',50,50]\n",
        "],colums=['name','midterm','final'])\n",
        "#합치기\n",
        "df.append(df2,ignore_index=True)"
      ],
      "execution_count": null,
      "outputs": []
    }
  ]
}