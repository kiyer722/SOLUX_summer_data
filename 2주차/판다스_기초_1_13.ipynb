{
  "nbformat": 4,
  "nbformat_minor": 0,
  "metadata": {
    "colab": {
      "name": "판다스 기초 1.13",
      "provenance": [],
      "authorship_tag": "ABX9TyPyJhe77W4qeXY5KI2lhxu4",
      "include_colab_link": true
    },
    "kernelspec": {
      "name": "python3",
      "display_name": "Python 3"
    }
  },
  "cells": [
    {
      "cell_type": "markdown",
      "metadata": {
        "id": "view-in-github",
        "colab_type": "text"
      },
      "source": [
        "<a href=\"https://colab.research.google.com/github/kiyer722/SOLUX_summer_data/blob/master/2%EC%A3%BC%EC%B0%A8/%ED%8C%90%EB%8B%A4%EC%8A%A4_%EA%B8%B0%EC%B4%88_1_13.ipynb\" target=\"_parent\"><img src=\"https://colab.research.google.com/assets/colab-badge.svg\" alt=\"Open In Colab\"/></a>"
      ]
    },
    {
      "cell_type": "code",
      "metadata": {
        "id": "HGe4bv8WxNfW",
        "colab_type": "code",
        "colab": {}
      },
      "source": [
        "import pandas as pd"
      ],
      "execution_count": null,
      "outputs": []
    },
    {
      "cell_type": "code",
      "metadata": {
        "id": "HfWkL3ndxNid",
        "colab_type": "code",
        "colab": {}
      },
      "source": [
        "job_list = [{'name': 'John', 'job': \"teacher\"},\n",
        "                {'name': 'Nate', 'job': \"teacher\"},\n",
        "                {'name': 'Fred', 'job': \"teacher\"},\n",
        "                {'name': 'Abraham', 'job': \"student\"},\n",
        "                {'name': 'Brian', 'job': \"student\"},\n",
        "                {'name': 'Janny', 'job': \"developer\"},\n",
        "                {'name': 'Nate', 'job': \"teacher\"},\n",
        "                {'name': 'Obrian', 'job': \"dentist\"},\n",
        "                {'name': 'Yuna', 'job': \"teacher\"},\n",
        "                {'name': 'Rob', 'job': \"lawyer\"},\n",
        "                {'name': 'Brian', 'job': \"student\"},\n",
        "                {'name': 'Matt', 'job': \"student\"},\n",
        "                {'name': 'Wendy', 'job': \"banker\"},\n",
        "                {'name': 'Edward', 'job': \"teacher\"},\n",
        "                {'name': 'Ian', 'job': \"teacher\"},\n",
        "                {'name': 'Chris', 'job': \"banker\"},\n",
        "                {'name': 'Philip', 'job': \"lawyer\"},\n",
        "                {'name': 'Janny', 'job': \"basketball player\"},\n",
        "                {'name': 'Gwen', 'job': \"teacher\"},\n",
        "                {'name': 'Jessy', 'job': \"student\"}\n",
        "         ]\n",
        "df = pd.DataFrame(job_list, columns = ['name', 'job'])"
      ],
      "execution_count": null,
      "outputs": []
    },
    {
      "cell_type": "code",
      "metadata": {
        "id": "FogK4f75xNmF",
        "colab_type": "code",
        "colab": {}
      },
      "source": [
        "# 유니크한 value만 뽑고 싶을 때\n",
        "print( df.job.unique() )\n",
        "#각 직업별로 몇개의 데이터가 있는지 보고싶을 때\n",
        "df.job.value_counts()"
      ],
      "execution_count": null,
      "outputs": []
    }
  ]
}