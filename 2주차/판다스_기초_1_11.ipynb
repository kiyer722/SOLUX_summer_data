{
  "nbformat": 4,
  "nbformat_minor": 0,
  "metadata": {
    "colab": {
      "name": "판다스 기초 1.11",
      "provenance": [],
      "authorship_tag": "ABX9TyNJJJRAhQ/pJ1BHA8OCMm3i",
      "include_colab_link": true
    },
    "kernelspec": {
      "name": "python3",
      "display_name": "Python 3"
    }
  },
  "cells": [
    {
      "cell_type": "markdown",
      "metadata": {
        "id": "view-in-github",
        "colab_type": "text"
      },
      "source": [
        "<a href=\"https://colab.research.google.com/github/kiyer722/SOLUX_summer_data/blob/master/2%EC%A3%BC%EC%B0%A8/%ED%8C%90%EB%8B%A4%EC%8A%A4_%EA%B8%B0%EC%B4%88_1_11.ipynb\" target=\"_parent\"><img src=\"https://colab.research.google.com/assets/colab-badge.svg\" alt=\"Open In Colab\"/></a>"
      ]
    },
    {
      "cell_type": "code",
      "metadata": {
        "id": "J5AuxZ0twspg",
        "colab_type": "code",
        "colab": {}
      },
      "source": [
        "import pandas as pd"
      ],
      "execution_count": null,
      "outputs": []
    },
    {
      "cell_type": "code",
      "metadata": {
        "id": "vAEV0-wcwsuL",
        "colab_type": "code",
        "colab": {}
      },
      "source": [
        "#데이터 프레임\n",
        "date_list = [{'yyyy-mm-dd': '2000-06-27'},\n",
        "         {'yyyy-mm-dd': '2002-09-24'},\n",
        "         {'yyyy-mm-dd': '2005-12-20'}]\n",
        "df = pd.DataFrame(date_list, columns = ['yyyy-mm-dd'])\n",
        "df"
      ],
      "execution_count": null,
      "outputs": []
    },
    {
      "cell_type": "code",
      "metadata": {
        "id": "khD1ubwNwszN",
        "colab_type": "code",
        "colab": {}
      },
      "source": [
        "#컬럼 추가\n",
        "def extract_year(column):\n",
        "    return column.split(\"-\")[0]"
      ],
      "execution_count": null,
      "outputs": []
    },
    {
      "cell_type": "code",
      "metadata": {
        "id": "ELAzSUVtws32",
        "colab_type": "code",
        "colab": {}
      },
      "source": [
        "df['year']=df['yyyy=mm-dd'].apply(extract_year)"
      ],
      "execution_count": null,
      "outputs": []
    },
    {
      "cell_type": "code",
      "metadata": {
        "id": "GemUrrJNws8h",
        "colab_type": "code",
        "colab": {}
      },
      "source": [
        "#나이 추가 2018에서 연도를 빼기\n",
        "def extract_year(year, current_year):\n",
        "    return current_year - int(year)\n",
        "df['age'] = df['year'].apply(extract_year, current_year=2018)\n",
        "df"
      ],
      "execution_count": null,
      "outputs": []
    },
    {
      "cell_type": "code",
      "metadata": {
        "id": "J9iLwWluwtBe",
        "colab_type": "code",
        "colab": {}
      },
      "source": [
        "#패러미터를 여러개 보내기 자기소개란\n",
        "def get_introduce(age, prefix, suffix):\n",
        "    return prefix + str(age) + suffix\n",
        "df['introduce'] = df['age'].apply(get_introduce, prefix=\"I am \", suffix=\" years old\")\n",
        "df"
      ],
      "execution_count": null,
      "outputs": []
    },
    {
      "cell_type": "code",
      "metadata": {
        "id": "oxAVCYDQwtFI",
        "colab_type": "code",
        "colab": {}
      },
      "source": [
        "#여러개의 함수를 어플리케이션\n",
        "def get_introduce2(row):\n",
        "    return \"I was born in \"+str(row.year)+\" my age is \"+str(row.age)\n",
        "df.introduce = df.apply(get_introduce2, axis=1)\n",
        "df"
      ],
      "execution_count": null,
      "outputs": []
    }
  ]
}