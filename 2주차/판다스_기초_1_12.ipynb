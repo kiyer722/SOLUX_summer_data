{
  "nbformat": 4,
  "nbformat_minor": 0,
  "metadata": {
    "colab": {
      "name": "판다스 기초 1.12",
      "provenance": [],
      "authorship_tag": "ABX9TyM0TtPVeiLB+5KUeOr72+Nl",
      "include_colab_link": true
    },
    "kernelspec": {
      "name": "python3",
      "display_name": "Python 3"
    }
  },
  "cells": [
    {
      "cell_type": "markdown",
      "metadata": {
        "id": "view-in-github",
        "colab_type": "text"
      },
      "source": [
        "<a href=\"https://colab.research.google.com/github/kiyer722/SOLUX_summer_data/blob/master/2%EC%A3%BC%EC%B0%A8/%ED%8C%90%EB%8B%A4%EC%8A%A4_%EA%B8%B0%EC%B4%88_1_12.ipynb\" target=\"_parent\"><img src=\"https://colab.research.google.com/assets/colab-badge.svg\" alt=\"Open In Colab\"/></a>"
      ]
    },
    {
      "cell_type": "code",
      "metadata": {
        "id": "OQB6GzNRw9V7",
        "colab_type": "code",
        "colab": {}
      },
      "source": [
        "import pandas as pd"
      ],
      "execution_count": null,
      "outputs": []
    },
    {
      "cell_type": "code",
      "metadata": {
        "id": "UQCxDnpow9aI",
        "colab_type": "code",
        "colab": {}
      },
      "source": [
        "date_list = [{'yyyy-mm-dd': '2000-06-27'},\n",
        "         {'yyyy-mm-dd': '2002-09-24'},\n",
        "         {'yyyy-mm-dd': '2005-12-20'}]\n",
        "df = pd.DataFrame(date_list, columns = ['yyyy-mm-dd'])\n",
        "df"
      ],
      "execution_count": null,
      "outputs": []
    },
    {
      "cell_type": "code",
      "metadata": {
        "id": "0x-1ay4Zw9eg",
        "colab_type": "code",
        "colab": {}
      },
      "source": [
        "# 연도만 끄집어낸다\n",
        "def extract_year(row):\n",
        "    return row.split('-')[0]"
      ],
      "execution_count": null,
      "outputs": []
    },
    {
      "cell_type": "code",
      "metadata": {
        "id": "GrK8tLtew9ia",
        "colab_type": "code",
        "colab": {}
      },
      "source": [
        "df['year'] = df['yyyy-mm-dd'].map(extract_year)\n",
        "df"
      ],
      "execution_count": null,
      "outputs": []
    },
    {
      "cell_type": "code",
      "metadata": {
        "id": "smizAAjxw9ms",
        "colab_type": "code",
        "colab": {}
      },
      "source": [
        "job_list = [{'age': 20, 'job': 'student'},\n",
        "         {'age': 30, 'job': 'developer'},\n",
        "         {'age': 30, 'job': 'teacher'}]\n",
        "df = pd.DataFrame(job_list)\n",
        "df"
      ],
      "execution_count": null,
      "outputs": []
    },
    {
      "cell_type": "code",
      "metadata": {
        "id": "Lk14ttiYw9ql",
        "colab_type": "code",
        "colab": {}
      },
      "source": [
        "#map함수를 이용해서 txet를 숫자로 바꾸기\n",
        "df.job = df.job.map({\"student\":1,\"developer\":2,\"teacher\":3})\n",
        "df"
      ],
      "execution_count": null,
      "outputs": []
    },
    {
      "cell_type": "code",
      "metadata": {
        "id": "Qd6V3TPPw9vG",
        "colab_type": "code",
        "colab": {}
      },
      "source": [
        "#예제\n",
        "x_y = [{'x': 5.5, 'y': -5.6},\n",
        "         {'x': -5.2, 'y': 5.5},\n",
        "         {'x': -1.6, 'y': -4.5}]\n",
        "df = pd.DataFrame(x_y)\n",
        "df"
      ],
      "execution_count": null,
      "outputs": []
    },
    {
      "cell_type": "code",
      "metadata": {
        "id": "3A6oFe1dw9zE",
        "colab_type": "code",
        "colab": {}
      },
      "source": [
        "#모든 컬럼에 적용하고 싶을 때\n",
        "import numpy as np\n",
        "df = df.applymap(np.around)\n",
        "df"
      ],
      "execution_count": null,
      "outputs": []
    }
  ]
}