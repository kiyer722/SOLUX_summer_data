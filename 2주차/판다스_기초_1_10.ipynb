{
  "nbformat": 4,
  "nbformat_minor": 0,
  "metadata": {
    "colab": {
      "name": "판다스 기초 1.10",
      "provenance": [],
      "authorship_tag": "ABX9TyNTLvN11SmdIgYvSo2Jgcaq",
      "include_colab_link": true
    },
    "kernelspec": {
      "name": "python3",
      "display_name": "Python 3"
    }
  },
  "cells": [
    {
      "cell_type": "markdown",
      "metadata": {
        "id": "view-in-github",
        "colab_type": "text"
      },
      "source": [
        "<a href=\"https://colab.research.google.com/github/kiyer722/SOLUX_summer_data/blob/master/2%EC%A3%BC%EC%B0%A8/%ED%8C%90%EB%8B%A4%EC%8A%A4_%EA%B8%B0%EC%B4%88_1_10.ipynb\" target=\"_parent\"><img src=\"https://colab.research.google.com/assets/colab-badge.svg\" alt=\"Open In Colab\"/></a>"
      ]
    },
    {
      "cell_type": "code",
      "metadata": {
        "id": "bVAL7AfgwUHv",
        "colab_type": "code",
        "colab": {}
      },
      "source": [
        "import pandas as pa"
      ],
      "execution_count": null,
      "outputs": []
    },
    {
      "cell_type": "code",
      "metadata": {
        "id": "GRrp0mUuwUNQ",
        "colab_type": "code",
        "colab": {}
      },
      "source": [
        "#데이터 프레임\n",
        "school_id_list = [{'name': 'John', 'job': \"teacher\", 'age': 40},\n",
        "                {'name': 'Nate', 'job': \"teacher\", 'age': 35},\n",
        "                {'name': 'Yuna', 'job': \"teacher\", 'age': 37},\n",
        "                {'name': 'Abraham', 'job': \"student\", 'age': 10},\n",
        "                {'name': 'Brian', 'job': \"student\", 'age': 12},\n",
        "                {'name': 'Janny', 'job': \"student\", 'age': 11},\n",
        "                {'name': 'Nate', 'job': \"teacher\", 'age': None},\n",
        "                {'name': 'John', 'job': \"student\", 'age': None}\n",
        "         ]\n",
        "df = pd.DataFrame(school_id_list, columns = ['name', 'job', 'age'])\n",
        "df"
      ],
      "execution_count": null,
      "outputs": []
    },
    {
      "cell_type": "code",
      "metadata": {
        "id": "GuturO0RwUST",
        "colab_type": "code",
        "colab": {}
      },
      "source": [
        "#NaN값을 쉽게 찾아내는 방법\n",
        "df.shape"
      ],
      "execution_count": null,
      "outputs": []
    },
    {
      "cell_type": "code",
      "metadata": {
        "id": "IgVkvHA2wUXV",
        "colab_type": "code",
        "colab": {}
      },
      "source": [
        "#더 세세하게 나옴\n",
        "df.info()"
      ],
      "execution_count": null,
      "outputs": []
    },
    {
      "cell_type": "code",
      "metadata": {
        "id": "yZvKLVAVwUcY",
        "colab_type": "code",
        "colab": {}
      },
      "source": [
        "#다른 방법 T or F 로 표현 됨\n",
        "df.isna()"
      ],
      "execution_count": null,
      "outputs": []
    },
    {
      "cell_type": "code",
      "metadata": {
        "id": "xgmBsQznwUhj",
        "colab_type": "code",
        "colab": {}
      },
      "source": [
        "#다른 이름\n",
        "df.isnull()"
      ],
      "execution_count": null,
      "outputs": []
    },
    {
      "cell_type": "code",
      "metadata": {
        "id": "bY_UX80fwUlk",
        "colab_type": "code",
        "colab": {}
      },
      "source": [
        "# None값을 다른 값으로 변환하기\n",
        "df[\"age\"]=df.age.fillna(0) \n",
        "#0은 이상하므로 그럴싸 한 값으로 변경시켜줘야 함\n",
        "#데이터 프레임을 다시 불러서 중간값으로 변경하기\n",
        "df[\"age\"]=df.age.fillna(df.groupby(\"job\")[\"age\"].transform(\"median\"), inplace=True)"
      ],
      "execution_count": null,
      "outputs": []
    }
  ]
}