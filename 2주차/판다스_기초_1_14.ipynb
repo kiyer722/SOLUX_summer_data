{
  "nbformat": 4,
  "nbformat_minor": 0,
  "metadata": {
    "colab": {
      "name": "판다스 기초 1.14",
      "provenance": [],
      "authorship_tag": "ABX9TyPeQPW9GnUoxCC/C6AxPOjV",
      "include_colab_link": true
    },
    "kernelspec": {
      "name": "python3",
      "display_name": "Python 3"
    }
  },
  "cells": [
    {
      "cell_type": "markdown",
      "metadata": {
        "id": "view-in-github",
        "colab_type": "text"
      },
      "source": [
        "<a href=\"https://colab.research.google.com/github/kiyer722/SOLUX_summer_data/blob/master/2%EC%A3%BC%EC%B0%A8/%ED%8C%90%EB%8B%A4%EC%8A%A4_%EA%B8%B0%EC%B4%88_1_14.ipynb\" target=\"_parent\"><img src=\"https://colab.research.google.com/assets/colab-badge.svg\" alt=\"Open In Colab\"/></a>"
      ]
    },
    {
      "cell_type": "code",
      "metadata": {
        "id": "AYBJm2hRxfXu",
        "colab_type": "code",
        "colab": {}
      },
      "source": [
        "import pandas as pd"
      ],
      "execution_count": null,
      "outputs": []
    },
    {
      "cell_type": "code",
      "metadata": {
        "id": "K2e0irMBxfbK",
        "colab_type": "code",
        "colab": {}
      },
      "source": [
        "l1 = [{'name': 'John', 'job': \"teacher\"},\n",
        "      {'name': 'Nate', 'job': \"student\"},\n",
        "      {'name': 'Fred', 'job': \"developer\"}]\n",
        "\n",
        "l2 = [{'name': 'Ed', 'job': \"dentist\"},\n",
        "      {'name': 'Jack', 'job': \"farmer\"},\n",
        "      {'name': 'Ted', 'job': \"designer\"}]"
      ],
      "execution_count": null,
      "outputs": []
    },
    {
      "cell_type": "code",
      "metadata": {
        "id": "pvx7rR4Hxfem",
        "colab_type": "code",
        "colab": {}
      },
      "source": [
        "df1 = pd.DataFrame(l1, columns = ['name', 'job'])\n",
        "df2 = pd.DataFrame(l2, columns = ['name', 'job'])"
      ],
      "execution_count": null,
      "outputs": []
    },
    {
      "cell_type": "code",
      "metadata": {
        "id": "r4WkMZLJxfid",
        "colab_type": "code",
        "colab": {}
      },
      "source": [
        "#합치는 첫번째 방법 다만 인덱스가 똑같이 들어가기에 ignore_index=True가 들어감\n",
        "frames = [df1, df2]\n",
        "result = pd.concat(frames, ignore_index=True)"
      ],
      "execution_count": null,
      "outputs": []
    },
    {
      "cell_type": "code",
      "metadata": {
        "id": "f7DMARMFxfmC",
        "colab_type": "code",
        "colab": {}
      },
      "source": [
        "df1 = pd.DataFrame(l1, columns = ['name', 'job'])\n",
        "df2 = pd.DataFrame(l2, columns = ['name', 'job'])\n",
        "# 두번째 방법\n",
        "result = df1.append(df2, ignore_index=True)"
      ],
      "execution_count": null,
      "outputs": []
    },
    {
      "cell_type": "code",
      "metadata": {
        "id": "1oWkJSUZxfps",
        "colab_type": "code",
        "colab": {}
      },
      "source": [
        "l1 = [{'name': 'John', 'job': \"teacher\"},\n",
        "      {'name': 'Nate', 'job': \"student\"},\n",
        "      {'name': 'Jack', 'job': \"developer\"}]\n",
        "\n",
        "l2 = [{'age': 25, 'country': \"U.S\"},\n",
        "      {'age': 30, 'country': \"U.K\"},\n",
        "      {'age': 45, 'country': \"Korea\"}]\n",
        " #열로 합치는 예제        \n",
        "df1 = pd.DataFrame(l1, columns = ['name', 'job'])\n",
        "df2 = pd.DataFrame(l2, columns = ['age', 'country'])\n",
        "result = pd.concat([df1, df2], axis=1, ignore_index=True)"
      ],
      "execution_count": null,
      "outputs": []
    },
    {
      "cell_type": "code",
      "metadata": {
        "id": "Y7N0ExQ0xfsw",
        "colab_type": "code",
        "colab": {}
      },
      "source": [
        "#실제값과 예측값 비교하기\n",
        "label = [1,2,3,4,5]\n",
        "prediction = [1,2,2,5,5]\n",
        "\n",
        "comparison = pd.DataFrame(\n",
        "    {'label': label,\n",
        "     'prediction': prediction\n",
        "    })\n",
        "\n",
        "comparison"
      ],
      "execution_count": null,
      "outputs": []
    }
  ]
}