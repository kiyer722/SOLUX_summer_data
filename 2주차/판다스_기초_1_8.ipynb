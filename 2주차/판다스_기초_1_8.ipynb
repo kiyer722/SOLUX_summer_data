{
  "nbformat": 4,
  "nbformat_minor": 0,
  "metadata": {
    "colab": {
      "name": "판다스 기초 1.8",
      "provenance": [],
      "authorship_tag": "ABX9TyOk/oQ+NXnG4JX7t4K0BzJB",
      "include_colab_link": true
    },
    "kernelspec": {
      "name": "python3",
      "display_name": "Python 3"
    }
  },
  "cells": [
    {
      "cell_type": "markdown",
      "metadata": {
        "id": "view-in-github",
        "colab_type": "text"
      },
      "source": [
        "<a href=\"https://colab.research.google.com/github/kiyer722/SOLUX_summer_data/blob/master/2%EC%A3%BC%EC%B0%A8/%ED%8C%90%EB%8B%A4%EC%8A%A4_%EA%B8%B0%EC%B4%88_1_8.ipynb\" target=\"_parent\"><img src=\"https://colab.research.google.com/assets/colab-badge.svg\" alt=\"Open In Colab\"/></a>"
      ]
    },
    {
      "cell_type": "code",
      "metadata": {
        "id": "qYTcuOghuDub",
        "colab_type": "code",
        "colab": {}
      },
      "source": [
        "import pandas as pd"
      ],
      "execution_count": null,
      "outputs": []
    },
    {
      "cell_type": "code",
      "metadata": {
        "id": "H-7hzFRCuDw_",
        "colab_type": "code",
        "colab": {}
      },
      "source": [
        "#데이터 프레임 이름, 전공, 성별 순\n",
        "student_list = [{'name': 'John', 'major': \"Computer Science\", 'sex': \"male\"},\n",
        "                {'name': 'Nate', 'major': \"Computer Science\", 'sex': \"male\"},\n",
        "                {'name': 'Abraham', 'major': \"Physics\", 'sex': \"male\"},\n",
        "                {'name': 'Brian', 'major': \"Psychology\", 'sex': \"male\"},\n",
        "                {'name': 'Janny', 'major': \"Economics\", 'sex': \"female\"},\n",
        "                {'name': 'Yuna', 'major': \"Economics\", 'sex': \"female\"},\n",
        "                {'name': 'Jeniffer', 'major': \"Computer Science\", 'sex': \"female\"},\n",
        "                {'name': 'Edward', 'major': \"Computer Science\", 'sex': \"male\"},\n",
        "                {'name': 'Zara', 'major': \"Psychology\", 'sex': \"female\"},\n",
        "                {'name': 'Wendy', 'major': \"Economics\", 'sex': \"female\"},\n",
        "                {'name': 'Sera', 'major': \"Psychology\", 'sex': \"female\"}\n",
        "         ]\n",
        "df = pd.DataFrame(student_list, columns = ['name', 'major', 'sex'])\n",
        "df"
      ],
      "execution_count": null,
      "outputs": []
    },
    {
      "cell_type": "code",
      "metadata": {
        "id": "J8pGsUlUuEDe",
        "colab_type": "code",
        "colab": {}
      },
      "source": [
        "#각 학과별로 몇명이 있는지 알고싶어요\n",
        "groupby_major = df.groupby('major')"
      ],
      "execution_count": null,
      "outputs": []
    },
    {
      "cell_type": "code",
      "metadata": {
        "id": "rsFEDh60uEF_",
        "colab_type": "code",
        "colab": {}
      },
      "source": [
        "#전공별로 그룹 됨\n",
        "groupby_major.groups"
      ],
      "execution_count": null,
      "outputs": []
    },
    {
      "cell_type": "code",
      "metadata": {
        "id": "sMgzaTD9uEI4",
        "colab_type": "code",
        "colab": {}
      },
      "source": [
        "#좀 더 나은 시각화를 위해\n",
        "for name, group in groupby_major:\n",
        "    print(name + \": \" + str(len(group)))#이름을 출력하고 몇명의 사람이 있는지\n",
        "    print(group)\n",
        "    print()\n",
        "#몇명이 있고 그 데이터가 뭐인지 표시되도록 나옴"
      ],
      "execution_count": null,
      "outputs": []
    },
    {
      "cell_type": "code",
      "metadata": {
        "id": "WOi9Q62UuELw",
        "colab_type": "code",
        "colab": {}
      },
      "source": [
        "#학과별로 몇명있는지 데이터 프레임으로 만들고 싶다\n",
        "df_major_cnt = pd.DataFrame({'count' : groupby_major.size()}).reset_index()\n",
        "#리셋 인덱스로 메이저 부분을 컬럼으로 넣음\n",
        "df_major_cnt"
      ],
      "execution_count": null,
      "outputs": []
    },
    {
      "cell_type": "code",
      "metadata": {
        "id": "6pAzTkzeuHWO",
        "colab_type": "code",
        "colab": {}
      },
      "source": [
        "#성별로 그룹화\n",
        "groupby_sex = df.groupby('sex')"
      ],
      "execution_count": null,
      "outputs": []
    },
    {
      "cell_type": "code",
      "metadata": {
        "id": "gk9In7KcuHcQ",
        "colab_type": "code",
        "colab": {}
      },
      "source": [
        "for name, group in groupby_sex:\n",
        "    print(name + \": \" + str(len(group)))\n",
        "    print(group)\n",
        "    print()"
      ],
      "execution_count": null,
      "outputs": []
    },
    {
      "cell_type": "code",
      "metadata": {
        "id": "kPALwa13uHhd",
        "colab_type": "code",
        "colab": {}
      },
      "source": [
        "df_sex_cnt = pd.DataFrame({'count' : groupby_sex.size()}).reset_index()\n",
        "df_sex_cnt"
      ],
      "execution_count": null,
      "outputs": []
    }
  ]
}