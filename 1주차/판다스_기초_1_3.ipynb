{
  "nbformat": 4,
  "nbformat_minor": 0,
  "metadata": {
    "colab": {
      "name": "판다스 기초 1.3",
      "provenance": [],
      "authorship_tag": "ABX9TyPh7lmTmAtO7zrkeFkKsPJ7",
      "include_colab_link": true
    },
    "kernelspec": {
      "name": "python3",
      "display_name": "Python 3"
    }
  },
  "cells": [
    {
      "cell_type": "markdown",
      "metadata": {
        "id": "view-in-github",
        "colab_type": "text"
      },
      "source": [
        "<a href=\"https://colab.research.google.com/github/kiyer722/SOLUX_summer_data/blob/master/1%EC%A3%BC%EC%B0%A8/%ED%8C%90%EB%8B%A4%EC%8A%A4_%EA%B8%B0%EC%B4%88_1_3.ipynb\" target=\"_parent\"><img src=\"https://colab.research.google.com/assets/colab-badge.svg\" alt=\"Open In Colab\"/></a>"
      ]
    },
    {
      "cell_type": "code",
      "metadata": {
        "id": "_RMUSz7vCp1G",
        "colab_type": "code",
        "colab": {}
      },
      "source": [
        "import pandas as pd"
      ],
      "execution_count": null,
      "outputs": []
    },
    {
      "cell_type": "code",
      "metadata": {
        "id": "ZAMKaSpBFMvX",
        "colab_type": "code",
        "colab": {}
      },
      "source": [
        "friend_dict_list=[\n",
        "    {'name':'john','age':25,'job':'student'},\n",
        "    {'name':'Nate','age':30,'job':'teacher'}\n",
        "]\n",
        "#파이썬 리스트와 딕셔너리로 데이터프레임을 생성"
      ],
      "execution_count": null,
      "outputs": []
    },
    {
      "cell_type": "code",
      "metadata": {
        "id": "qT_vlAsxFNAE",
        "colab_type": "code",
        "colab": {}
      },
      "source": [
        "df=pd.DataFrame(friend_dict_list)\n",
        "#데이터 프레임 만들기 그냥 이렇게 만들경우 순서가 뒤죽박죽이됨"
      ],
      "execution_count": null,
      "outputs": []
    },
    {
      "cell_type": "code",
      "metadata": {
        "id": "q3wZrVudFedU",
        "colab_type": "code",
        "colab": {}
      },
      "source": [
        "df=df[['name','age','job']]\n",
        "#순서변경"
      ],
      "execution_count": null,
      "outputs": []
    },
    {
      "cell_type": "code",
      "metadata": {
        "id": "LYBHnVQnFNC3",
        "colab_type": "code",
        "colab": {}
      },
      "source": [
        "#한방에 하기 \n",
        "from collections import OrderedDict"
      ],
      "execution_count": null,
      "outputs": []
    },
    {
      "cell_type": "code",
      "metadata": {
        "id": "P3pfXYPKFNF4",
        "colab_type": "code",
        "colab": {}
      },
      "source": [
        "friend_ordered_doct=OrderedDoct(\n",
        "    [ \n",
        "        ('name',['Jone','Nate']),\n",
        "        ('age',[25,30]),\n",
        "        ('job',['student','teacher'])\n",
        "    ]\n",
        ")"
      ],
      "execution_count": null,
      "outputs": []
    },
    {
      "cell_type": "code",
      "metadata": {
        "id": "tLMpWgRCFNJD",
        "colab_type": "code",
        "colab": {}
      },
      "source": [
        "df=pd.DataFrame.reom_dict(friend_ordered_dict)"
      ],
      "execution_count": null,
      "outputs": []
    },
    {
      "cell_type": "code",
      "metadata": {
        "id": "S5XeAbwTFNL9",
        "colab_type": "code",
        "colab": {}
      },
      "source": [
        "df.head()"
      ],
      "execution_count": null,
      "outputs": []
    },
    {
      "cell_type": "code",
      "metadata": {
        "id": "AiFSpCyYFNOx",
        "colab_type": "code",
        "colab": {}
      },
      "source": [
        "#리스트를 사용하는 방법\n",
        "friend_list=[\n",
        "    ['john',25,'student'],\n",
        "    ['Nate',30,'teacher']\n",
        "]"
      ],
      "execution_count": null,
      "outputs": []
    },
    {
      "cell_type": "code",
      "metadata": {
        "id": "eYuHlYbGFNRz",
        "colab_type": "code",
        "colab": {}
      },
      "source": [
        "column_name=['name','age','job']"
      ],
      "execution_count": null,
      "outputs": []
    },
    {
      "cell_type": "code",
      "metadata": {
        "id": "HiOi7zFSFNU7",
        "colab_type": "code",
        "colab": {}
      },
      "source": [
        "df=pd.DataFrame.from_records(friend_list,columns=column_name)"
      ],
      "execution_count": null,
      "outputs": []
    },
    {
      "cell_type": "code",
      "metadata": {
        "id": "GfxYEoEWFNiw",
        "colab_type": "code",
        "colab": {}
      },
      "source": [
        "df.head()"
      ],
      "execution_count": null,
      "outputs": []
    },
    {
      "cell_type": "code",
      "metadata": {
        "id": "V3Dce-7KFslh",
        "colab_type": "code",
        "colab": {}
      },
      "source": [
        "#한번에\n",
        "friend_list=[\n",
        "    ['name',['Jone','Nate']],\n",
        "    ['age',[25,30]],\n",
        "    ['job',['student','teacher']]\n",
        "]"
      ],
      "execution_count": null,
      "outputs": []
    },
    {
      "cell_type": "code",
      "metadata": {
        "id": "FPt_RKYfFuw8",
        "colab_type": "code",
        "colab": {}
      },
      "source": [
        "df=pd.DataReame.from_items(friend_list)"
      ],
      "execution_count": null,
      "outputs": []
    },
    {
      "cell_type": "code",
      "metadata": {
        "id": "KjQhlwYRFwkW",
        "colab_type": "code",
        "colab": {}
      },
      "source": [
        "df.head()"
      ],
      "execution_count": null,
      "outputs": []
    }
  ]
}