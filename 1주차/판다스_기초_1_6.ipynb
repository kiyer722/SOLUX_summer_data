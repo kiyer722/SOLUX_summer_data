{
  "nbformat": 4,
  "nbformat_minor": 0,
  "metadata": {
    "colab": {
      "name": "판다스 기초 1.6",
      "provenance": [],
      "authorship_tag": "ABX9TyPfNcvt8+ARDU7jwVQwTyZX",
      "include_colab_link": true
    },
    "kernelspec": {
      "name": "python3",
      "display_name": "Python 3"
    }
  },
  "cells": [
    {
      "cell_type": "markdown",
      "metadata": {
        "id": "view-in-github",
        "colab_type": "text"
      },
      "source": [
        "<a href=\"https://colab.research.google.com/github/kiyer722/SOLUX_summer_data/blob/master/1%EC%A3%BC%EC%B0%A8/%ED%8C%90%EB%8B%A4%EC%8A%A4_%EA%B8%B0%EC%B4%88_1_6.ipynb\" target=\"_parent\"><img src=\"https://colab.research.google.com/assets/colab-badge.svg\" alt=\"Open In Colab\"/></a>"
      ]
    },
    {
      "cell_type": "code",
      "metadata": {
        "id": "u7BI9wBXHY6S",
        "colab_type": "code",
        "colab": {}
      },
      "source": [
        "import pandas as pd\n",
        "\n",
        "friends = [{'age':15,\"job\":'student'},\n",
        "          {'age':25,\"job\":'developer'},\n",
        "          {'age':30,\"job\":'teacher'}]\n",
        "\n",
        "df=pd.DateFrame(friends,\n",
        "               index=['John','Jenny','Nate']\n",
        "               columns=['age','job'])"
      ],
      "execution_count": null,
      "outputs": []
    },
    {
      "cell_type": "code",
      "metadata": {
        "id": "sKfZ535UHZBd",
        "colab_type": "code",
        "colab": {}
      },
      "source": [
        "df"
      ],
      "execution_count": null,
      "outputs": []
    },
    {
      "cell_type": "code",
      "metadata": {
        "id": "P2mgDiM6HZKl",
        "colab_type": "code",
        "colab": {}
      },
      "source": [
        "# 존과 네이트 정보를 삭제하고싶다! 데이터 프레임에 정보반영 x\n",
        "df.drop(['없애고 싶은 인덱스 이름'])\n",
        "df=df.drop(['없애고 싶은 인덱스 이름'])#정보 반영\n",
        "#다른방법\n",
        "df=df.drop(['없애고 싶은 인덱스 이름'],inplace=True)#정보반영방법 2"
      ],
      "execution_count": null,
      "outputs": []
    },
    {
      "cell_type": "code",
      "metadata": {
        "id": "BawKQ50mHZTJ",
        "colab_type": "code",
        "colab": {}
      },
      "source": [
        "#만약 인덱스에 숫자가 들어간다면\n",
        "friends = [{'name':'John','age':15,\"job\":'student'},\n",
        "          {'name':'Nate','age':25,\"job\":'developer'},\n",
        "          {'name':'Jenny','age':30,\"job\":'teacher'}]\n",
        "df=pd.DateFrame(friends,\n",
        "               columns=['age','job'])\n",
        "#이 데이터 프레임에서 존과 제니 삭제\n",
        "df=df.drop(df.index([0,2]))"
      ],
      "execution_count": null,
      "outputs": []
    },
    {
      "cell_type": "code",
      "metadata": {
        "id": "zlnDj2e2HZbo",
        "colab_type": "code",
        "colab": {}
      },
      "source": [
        "#어떤 조건이 있는것을 삭제하고 싶다\n",
        "df=df[df.age>20] #20살 이상인 사람의 정보만 남김\n",
        "#컬럼 드랍\n",
        "df=fd.drop('age',axis=1)"
      ],
      "execution_count": null,
      "outputs": []
    }
  ]
}