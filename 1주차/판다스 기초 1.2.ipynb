{
  "nbformat": 4,
  "nbformat_minor": 0,
  "metadata": {
    "colab": {
      "name": "1.2 파일에서 데이터 불러오기.ipynb",
      "provenance": [],
      "authorship_tag": "ABX9TyNGqYdNiygcxgMTSNzttUnA",
      "include_colab_link": true
    },
    "kernelspec": {
      "name": "python3",
      "display_name": "Python 3"
    }
  },
  "cells": [
    {
      "cell_type": "markdown",
      "metadata": {
        "id": "view-in-github",
        "colab_type": "text"
      },
      "source": [
        "<a href=\"https://colab.research.google.com/github/kiyer722/SOLUX_summer_data/blob/master/1%EC%A3%BC%EC%B0%A8/%ED%8C%90%EB%8B%A4%EC%8A%A4%20%EA%B8%B0%EC%B4%88%201.2.ipynb\" target=\"_parent\"><img src=\"https://colab.research.google.com/assets/colab-badge.svg\" alt=\"Open In Colab\"/></a>"
      ]
    },
    {
      "cell_type": "code",
      "metadata": {
        "id": "_RMUSz7vCp1G",
        "colab_type": "code",
        "colab": {}
      },
      "source": [
        "import pandas as pd"
      ],
      "execution_count": null,
      "outputs": []
    },
    {
      "cell_type": "code",
      "metadata": {
        "id": "rXrJ4T8iCqxI",
        "colab_type": "code",
        "colab": {}
      },
      "source": [
        "df = pd.read_csv()#csv파일 불러오기"
      ],
      "execution_count": 1,
      "outputs": []
    },
    {
      "cell_type": "code",
      "metadata": {
        "id": "NzkWlKOwCq_y",
        "colab_type": "code",
        "colab": {}
      },
      "source": [
        "df"
      ],
      "execution_count": null,
      "outputs": []
    },
    {
      "cell_type": "code",
      "metadata": {
        "id": "Hxg6762XCrDC",
        "colab_type": "code",
        "colab": {}
      },
      "source": [
        "df.head#처음부터~까지"
      ],
      "execution_count": null,
      "outputs": []
    },
    {
      "cell_type": "code",
      "metadata": {
        "id": "rfRJDmhiCzF3",
        "colab_type": "code",
        "colab": {}
      },
      "source": [
        "#만약 ,이 아닌 TAP등으로 구분되어있다면\n",
        "df=pd.read_csv('',delimiter='/t')"
      ],
      "execution_count": null,
      "outputs": []
    },
    {
      "cell_type": "code",
      "metadata": {
        "id": "KVtT5UCJEoYS",
        "colab_type": "code",
        "colab": {}
      },
      "source": [
        "df=pd.read_csv('')"
      ],
      "execution_count": null,
      "outputs": []
    },
    {
      "cell_type": "code",
      "metadata": {
        "id": "cJXgV7R-Ep20",
        "colab_type": "code",
        "colab": {}
      },
      "source": [
        "df#헤더가 없으면 첫 데이터가 헤더가됨\n",
        "df=pd.read_csv('',header=None)\n",
        "#컬럼네임을 넣고싶다.\n",
        "df.colums=['name','age','job']\n",
        "#한줄로\n",
        "df=pd.read_csv('',header=None,names=['name','age','job'])"
      ],
      "execution_count": null,
      "outputs": []
    }
  ]
}