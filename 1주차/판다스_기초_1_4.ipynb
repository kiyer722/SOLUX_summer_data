{
  "nbformat": 4,
  "nbformat_minor": 0,
  "metadata": {
    "colab": {
      "name": "판다스 기초 1.4",
      "provenance": [],
      "authorship_tag": "ABX9TyNfvCNo3dqfzNwrZw+EJNnC",
      "include_colab_link": true
    },
    "kernelspec": {
      "name": "python3",
      "display_name": "Python 3"
    }
  },
  "cells": [
    {
      "cell_type": "markdown",
      "metadata": {
        "id": "view-in-github",
        "colab_type": "text"
      },
      "source": [
        "<a href=\"https://colab.research.google.com/github/kiyer722/SOLUX_summer_data/blob/master/1%EC%A3%BC%EC%B0%A8/%ED%8C%90%EB%8B%A4%EC%8A%A4_%EA%B8%B0%EC%B4%88_1_4.ipynb\" target=\"_parent\"><img src=\"https://colab.research.google.com/assets/colab-badge.svg\" alt=\"Open In Colab\"/></a>"
      ]
    },
    {
      "cell_type": "code",
      "metadata": {
        "id": "u6xVAFqSGkQF",
        "colab_type": "code",
        "colab": {}
      },
      "source": [
        "import pandas as pd"
      ],
      "execution_count": null,
      "outputs": []
    },
    {
      "cell_type": "code",
      "metadata": {
        "id": "kKAUFe3eGp-0",
        "colab_type": "code",
        "colab": {}
      },
      "source": [
        "friends=[{'name':'Jone','age':25,'job':'student'},\n",
        "        {'name':'Jenny','age':30,'job':None}\n",
        "        {'name':'Nate','age':30,'job':'teacher'}]\n",
        "df=pd.DateFrame(friends)\n",
        "df=df[['name','age','job']]\n",
        "#데이터프레임"
      ],
      "execution_count": null,
      "outputs": []
    },
    {
      "cell_type": "code",
      "metadata": {
        "id": "J39p4Sl3GqSx",
        "colab_type": "code",
        "colab": {}
      },
      "source": [
        "df.head()"
      ],
      "execution_count": null,
      "outputs": []
    },
    {
      "cell_type": "code",
      "metadata": {
        "id": "U1qHA8RDGrCK",
        "colab_type": "code",
        "colab": {}
      },
      "source": [
        "#csv파일로 저장\n",
        "df.to_csv('friends.csv', index=True, header=True)"
      ],
      "execution_count": null,
      "outputs": []
    },
    {
      "cell_type": "code",
      "metadata": {
        "id": "XsuwUfb6GrJ6",
        "colab_type": "code",
        "colab": {}
      },
      "source": [
        "#로우아이디 안넣고싶다 index=False 컬럼 네임도 False로 바꾸면 안나옴"
      ],
      "execution_count": null,
      "outputs": []
    },
    {
      "cell_type": "code",
      "metadata": {
        "id": "-tVtqXmeGrSG",
        "colab_type": "code",
        "colab": {}
      },
      "source": [
        "#빈값? None 값은 빈칸으로 넣어짐 만약 -등으로 표현해주고 싶은경우\n",
        "df.to_csv('friends.csv', index=True, header=True, na_rep ='-')"
      ],
      "execution_count": null,
      "outputs": []
    }
  ]
}