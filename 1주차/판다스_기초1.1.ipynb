{
  "nbformat": 4,
  "nbformat_minor": 0,
  "metadata": {
    "colab": {
      "name": "Untitled0.ipynb",
      "provenance": [],
      "authorship_tag": "ABX9TyPzKq7QCX+ssf2xgWu6P2fg",
      "include_colab_link": true
    },
    "kernelspec": {
      "name": "python3",
      "display_name": "Python 3"
    }
  },
  "cells": [
    {
      "cell_type": "markdown",
      "metadata": {
        "id": "view-in-github",
        "colab_type": "text"
      },
      "source": [
        "<a href=\"https://colab.research.google.com/github/kiyer722/SOLUX_summer_data/blob/master/1%EC%A3%BC%EC%B0%A8/%ED%8C%90%EB%8B%A4%EC%8A%A4_%EA%B8%B0%EC%B4%881.1.ipynb\" target=\"_parent\"><img src=\"https://colab.research.google.com/assets/colab-badge.svg\" alt=\"Open In Colab\"/></a>"
      ]
    },
    {
      "cell_type": "code",
      "metadata": {
        "id": "_RMUSz7vCp1G",
        "colab_type": "code",
        "colab": {}
      },
      "source": [
        "#팬더스는 파이썬 라이브러리, 데이터 수정 및 변경에 상당히 중요함"
      ],
      "execution_count": null,
      "outputs": []
    },
    {
      "cell_type": "code",
      "metadata": {
        "id": "rXrJ4T8iCqxI",
        "colab_type": "code",
        "colab": {}
      },
      "source": [
        "import pandas as pd"
      ],
      "execution_count": null,
      "outputs": []
    },
    {
      "cell_type": "code",
      "metadata": {
        "id": "NzkWlKOwCq_y",
        "colab_type": "code",
        "colab": {}
      },
      "source": [
        "data_frame=pd.read_csv('')#가지고있는 csv리스트 불러옴\n",
        "#가지고 있는 형테는 2D어레이어 엑셀과 비슷\n",
        "#왜 엑셀이 아닌 판다스? 1. 프로그램 x 2. 팬더스는 넌파일 숫자계산에 강력함"
      ],
      "execution_count": null,
      "outputs": []
    },
    {
      "cell_type": "code",
      "metadata": {
        "id": "Hxg6762XCrDC",
        "colab_type": "code",
        "colab": {}
      },
      "source": [
        "data_frame.head()#앞의 숫자개만봄\n",
        "data_frame.tail()#뒤의 숫자개만봄"
      ],
      "execution_count": null,
      "outputs": []
    },
    {
      "cell_type": "code",
      "metadata": {
        "id": "rfRJDmhiCzF3",
        "colab_type": "code",
        "colab": {}
      },
      "source": [
        "type(data_frame.job)\n",
        "#pandas.core.serise.Series 로 시리즈가 기본 단위임\n",
        "#시리즈 만들기\n",
        "s1=pd.core.serise.Series([1,2,3])\n",
        "s2=pd.core.serise.Series(['one','two','three'])\n",
        "pd.DataFrame(data=dict(num=s1,word=s2))"
      ],
      "execution_count": null,
      "outputs": []
    }
  ]
}