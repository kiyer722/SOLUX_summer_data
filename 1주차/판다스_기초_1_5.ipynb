{
  "nbformat": 4,
  "nbformat_minor": 0,
  "metadata": {
    "colab": {
      "name": "판다스 기초 1.5",
      "provenance": [],
      "authorship_tag": "ABX9TyMxQg4hMZcXDPQxKfYjmNb5",
      "include_colab_link": true
    },
    "kernelspec": {
      "name": "python3",
      "display_name": "Python 3"
    }
  },
  "cells": [
    {
      "cell_type": "markdown",
      "metadata": {
        "id": "view-in-github",
        "colab_type": "text"
      },
      "source": [
        "<a href=\"https://colab.research.google.com/github/kiyer722/SOLUX_summer_data/blob/master/1%EC%A3%BC%EC%B0%A8/%ED%8C%90%EB%8B%A4%EC%8A%A4_%EA%B8%B0%EC%B4%88_1_5.ipynb\" target=\"_parent\"><img src=\"https://colab.research.google.com/assets/colab-badge.svg\" alt=\"Open In Colab\"/></a>"
      ]
    },
    {
      "cell_type": "code",
      "metadata": {
        "id": "EKvBv_XOHBEL",
        "colab_type": "code",
        "colab": {}
      },
      "source": [
        "import pandas as pd"
      ],
      "execution_count": null,
      "outputs": []
    },
    {
      "cell_type": "code",
      "metadata": {
        "id": "FMFU4q0cHB6v",
        "colab_type": "code",
        "colab": {}
      },
      "source": [
        "#리스트로 데이터프레임만들기\n",
        "friends_list=[\n",
        "     ['name',['Jone','Jenny','Nate']],\n",
        "     ['age',[20,30,30]]\n",
        "     ['job',['student','developer','teacher']]\n",
        "]\n",
        "df=pd.DataFrame.from_items(friend_list)"
      ],
      "execution_count": null,
      "outputs": []
    },
    {
      "cell_type": "code",
      "metadata": {
        "id": "x5gmN1-FHCtT",
        "colab_type": "code",
        "colab": {}
      },
      "source": [
        "#행인덱스로 원하는 번호 데이터만보기\n",
        "df[1:3]#1번과 2번 인덱스 불러오기 결과값엔 적용 x\n",
        "#적용하려면\n",
        "df=df[1:3]"
      ],
      "execution_count": null,
      "outputs": []
    },
    {
      "cell_type": "code",
      "metadata": {
        "id": "WacYNhLwHDfl",
        "colab_type": "code",
        "colab": {}
      },
      "source": [
        "#중간이 필요없을땐? 직접 지정해야할 때!\n",
        "df.loc[[0,2]] #결과값은 0과 2의 데이터만 나옴 적용x\n",
        "#적용하려면\n",
        "df=df.loc[[0,2]]"
      ],
      "execution_count": null,
      "outputs": []
    },
    {
      "cell_type": "code",
      "metadata": {
        "id": "3CdwdANqHE_H",
        "colab_type": "code",
        "colab": {}
      },
      "source": [
        "#컬럼의 컨디션에 따라 로우 선택(by colum condition)\n",
        "# if 나이가 25 이상인 사람만 보고싶다면?\n",
        "df[df.age>25]\n",
        "df.query('age>25')\n",
        "#나이가 25이상 이름 Nate\n",
        "df[(df.age>25)&(df.name=='Nate')]"
      ],
      "execution_count": null,
      "outputs": []
    },
    {
      "cell_type": "code",
      "metadata": {
        "id": "nu3X2PUCHF7M",
        "colab_type": "code",
        "colab": {}
      },
      "source": [
        "#사용할 데이터프레임\n",
        "friend_list=[['Jone',25,'student'],\n",
        "        ['Jenny',30,'developer']\n",
        "        ['Nate',30,'teacher']\n",
        "        ]\n",
        "df=pd.DataFrame.from_records(driend_list)\n",
        "#컬럼 필터\n",
        "#인덱스로\n",
        "#컬럼 인덱스 01만 원한다.\n",
        "df.iloc[:,0:2]# 앞부분은 로우 지정 안했으므로 다 나옴. 뒤는 컬럼 0에서 1번까지 지정!"
      ],
      "execution_count": null,
      "outputs": []
    },
    {
      "cell_type": "code",
      "metadata": {
        "id": "SYu7oxGKHH-h",
        "colab_type": "code",
        "colab": {}
      },
      "source": [
        "#사용할 데이터 프레임을 깃허브를 이용 파일을 적어 받아옴\n",
        "df=pd.read_csv('파일',header=None,name=['name','age','job'])\n",
        "#컬럼의 이름으로\n",
        "df_filtered=df[['name','age']]\n",
        "df_filtered\n",
        "#이러면 job을 필터아웃 가능\n",
        "#다른방법\n",
        "df.filter(item=['age','job'])\n",
        "#다른 예시)컬럼네임에 a가 들어가는 것만 보고싶다\n",
        "df.filter(like='a',axis=1)#axis 는 축\n",
        "#정규식을 이용하는 방법\n",
        "df.filter(regex='b$',axis=1)"
      ],
      "execution_count": null,
      "outputs": []
    }
  ]
}