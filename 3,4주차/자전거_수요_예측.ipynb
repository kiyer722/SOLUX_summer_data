{
  "nbformat": 4,
  "nbformat_minor": 0,
  "metadata": {
    "colab": {
      "name": "자전거 수요 예측",
      "provenance": [],
      "authorship_tag": "ABX9TyOU7G2Lb0gzRBJ171BniDZ1",
      "include_colab_link": true
    },
    "kernelspec": {
      "name": "python3",
      "display_name": "Python 3"
    }
  },
  "cells": [
    {
      "cell_type": "markdown",
      "metadata": {
        "id": "view-in-github",
        "colab_type": "text"
      },
      "source": [
        "<a href=\"https://colab.research.google.com/github/kiyer722/SOLUX_summer_data/blob/master/3%2C4%EC%A3%BC%EC%B0%A8/%EC%9E%90%EC%A0%84%EA%B1%B0_%EC%88%98%EC%9A%94_%EC%98%88%EC%B8%A1.ipynb\" target=\"_parent\"><img src=\"https://colab.research.google.com/assets/colab-badge.svg\" alt=\"Open In Colab\"/></a>"
      ]
    },
    {
      "cell_type": "markdown",
      "metadata": {
        "id": "B6URkYsYB2hu",
        "colab_type": "text"
      },
      "source": [
        "3.1 탐색적 데이터 분석"
      ]
    },
    {
      "cell_type": "code",
      "metadata": {
        "id": "yTn4xUU7sGlc",
        "colab_type": "code",
        "colab": {}
      },
      "source": [
        "import pandas as pd\n",
        "import numpy as np\n",
        "import matplotlib as mpl\n",
        "import matplotlib.pyplot as plt\n",
        "import seaborn as sns\n",
        "from scipy import stats\n",
        "\n",
        "# 노트북 안에 그래프를 그리기 위해\n",
        "%matplotlib inline\n",
        "\n",
        "# 그래프에서 격자로 숫자 범위가 눈에 잘 띄도록 ggplot 스타일을 사용\n",
        "plt.style.use('ggplot')\n",
        "\n",
        "# 그래프에서 마이너스 폰트 깨지는 문제에 대한 대처\n",
        "mpl.rcParams['axes.unicode_minus'] = False"
      ],
      "execution_count": null,
      "outputs": []
    },
    {
      "cell_type": "code",
      "metadata": {
        "id": "qSWYmfLMsmiT",
        "colab_type": "code",
        "colab": {}
      },
      "source": [
        "#데이터 읽어오기\n",
        "train = pd.read_csv(\"data/train.csv\", parse_dates=[\"datetime\"])\n",
        "train.shape"
      ],
      "execution_count": null,
      "outputs": []
    },
    {
      "cell_type": "code",
      "metadata": {
        "id": "Y9dK7SJvsoaE",
        "colab_type": "code",
        "colab": {}
      },
      "source": [
        "# train.columns\n",
        "# train.dtypes\n",
        "train.info()"
      ],
      "execution_count": null,
      "outputs": []
    },
    {
      "cell_type": "code",
      "metadata": {
        "id": "qTjpUNqFsptm",
        "colab_type": "code",
        "colab": {}
      },
      "source": [
        "train.head()"
      ],
      "execution_count": null,
      "outputs": []
    },
    {
      "cell_type": "code",
      "metadata": {
        "id": "tA1o9TZssqzF",
        "colab_type": "code",
        "colab": {}
      },
      "source": [
        "train.temp.describe()"
      ],
      "execution_count": null,
      "outputs": []
    },
    {
      "cell_type": "code",
      "metadata": {
        "id": "BUsO3GeRsr3t",
        "colab_type": "code",
        "colab": {}
      },
      "source": [
        "train.isnull().sum()"
      ],
      "execution_count": null,
      "outputs": []
    },
    {
      "cell_type": "code",
      "metadata": {
        "id": "RjUJnh6astlK",
        "colab_type": "code",
        "colab": {}
      },
      "source": [
        "#null 데이터가 있는지 시각화로 확인\n",
        "import missingno as msno\n",
        "\n",
        "msno.matrix(train, figsize=(12,5))"
      ],
      "execution_count": null,
      "outputs": []
    },
    {
      "cell_type": "code",
      "metadata": {
        "id": "ki5htxbfsuwr",
        "colab_type": "code",
        "colab": {}
      },
      "source": [
        "train[\"year\"] = train[\"datetime\"].dt.year\n",
        "train[\"month\"] = train[\"datetime\"].dt.month\n",
        "train[\"day\"] = train[\"datetime\"].dt.day\n",
        "train[\"hour\"] = train[\"datetime\"].dt.hour\n",
        "train[\"minute\"] = train[\"datetime\"].dt.minute\n",
        "train[\"second\"] = train[\"datetime\"].dt.second\n",
        "train.shape"
      ],
      "execution_count": null,
      "outputs": []
    },
    {
      "cell_type": "code",
      "metadata": {
        "id": "SM_gVjhQsxb6",
        "colab_type": "code",
        "colab": {}
      },
      "source": [
        "train.head()"
      ],
      "execution_count": null,
      "outputs": []
    },
    {
      "cell_type": "code",
      "metadata": {
        "id": "vAxcES2Psyv-",
        "colab_type": "code",
        "colab": {}
      },
      "source": [
        "#계절, 시간, working day 기준으로 보기\n",
        "figure, ((ax1,ax2,ax3), (ax4,ax5,ax6)) = plt.subplots(nrows=2, ncols=3)\n",
        "figure.set_size_inches(18,8)\n",
        "\n",
        "sns.barplot(data=train, x=\"year\", y=\"count\", ax=ax1)\n",
        "sns.barplot(data=train, x=\"month\", y=\"count\", ax=ax2)\n",
        "sns.barplot(data=train, x=\"day\", y=\"count\", ax=ax3)\n",
        "sns.barplot(data=train, x=\"hour\", y=\"count\", ax=ax4)\n",
        "sns.barplot(data=train, x=\"minute\", y=\"count\", ax=ax5)\n",
        "sns.barplot(data=train, x=\"second\", y=\"count\", ax=ax6)\n",
        "\n",
        "ax1.set(ylabel='Count',title=\"연도별 대여량\")\n",
        "ax2.set(xlabel='month',title=\"월별 대여량\")\n",
        "ax3.set(xlabel='day', title=\"일별 대여량\")\n",
        "ax4.set(xlabel='hour', title=\"시간별 대여량\")"
      ],
      "execution_count": null,
      "outputs": []
    },
    {
      "cell_type": "code",
      "metadata": {
        "id": "gzKkrebds0cH",
        "colab_type": "code",
        "colab": {}
      },
      "source": [
        "fig, axes = plt.subplots(nrows=2,ncols=2)\n",
        "fig.set_size_inches(12, 10)\n",
        "sns.boxplot(data=train,y=\"count\",orient=\"v\",ax=axes[0][0])\n",
        "sns.boxplot(data=train,y=\"count\",x=\"season\",orient=\"v\",ax=axes[0][1])\n",
        "sns.boxplot(data=train,y=\"count\",x=\"hour\",orient=\"v\",ax=axes[1][0])\n",
        "sns.boxplot(data=train,y=\"count\",x=\"workingday\",orient=\"v\",ax=axes[1][1])\n",
        "\n",
        "axes[0][0].set(ylabel='Count',title=\"대여량\")\n",
        "axes[0][1].set(xlabel='Season', ylabel='Count',title=\"계절별 대여량\")\n",
        "axes[1][0].set(xlabel='Hour Of The Day', ylabel='Count',title=\"시간별 대여량\")\n",
        "axes[1][1].set(xlabel='Working Day', ylabel='Count',title=\"근무일 여부에 따른 대여량\")"
      ],
      "execution_count": null,
      "outputs": []
    },
    {
      "cell_type": "code",
      "metadata": {
        "id": "aq1EUg_Ls1_H",
        "colab_type": "code",
        "colab": {}
      },
      "source": [
        "train[\"dayofweek\"] = train[\"datetime\"].dt.dayofweek\n",
        "train.shape"
      ],
      "execution_count": null,
      "outputs": []
    },
    {
      "cell_type": "code",
      "metadata": {
        "id": "pmYx5gUNs3k_",
        "colab_type": "code",
        "colab": {}
      },
      "source": [
        "train[\"dayofweek\"].value_counts()"
      ],
      "execution_count": null,
      "outputs": []
    },
    {
      "cell_type": "code",
      "metadata": {
        "id": "S8SBXml3s42b",
        "colab_type": "code",
        "colab": {}
      },
      "source": [
        "fig,(ax1,ax2,ax3,ax4,ax5)= plt.subplots(nrows=5)\n",
        "fig.set_size_inches(18,25)\n",
        "\n",
        "sns.pointplot(data=train, x=\"hour\", y=\"count\", ax=ax1)\n",
        "\n",
        "sns.pointplot(data=train, x=\"hour\", y=\"count\", hue=\"workingday\", ax=ax2)\n",
        "\n",
        "sns.pointplot(data=train, x=\"hour\", y=\"count\", hue=\"dayofweek\", ax=ax3)\n",
        "\n",
        "sns.pointplot(data=train, x=\"hour\", y=\"count\", hue=\"weather\", ax=ax4)\n",
        "\n",
        "sns.pointplot(data=train, x=\"hour\", y=\"count\", hue=\"season\", ax=ax5)"
      ],
      "execution_count": null,
      "outputs": []
    },
    {
      "cell_type": "code",
      "metadata": {
        "id": "nCGI9rtcs7xT",
        "colab_type": "code",
        "colab": {}
      },
      "source": [
        "#온도, 습도, 풍속과의 연관관계\n",
        "corrMatt = train[[\"temp\", \"atemp\", \"casual\", \"registered\", \"humidity\", \"windspeed\", \"count\"]]\n",
        "corrMatt = corrMatt.corr()\n",
        "print(corrMatt)\n",
        "\n",
        "mask = np.array(corrMatt)\n",
        "mask[np.tril_indices_from(mask)] = False"
      ],
      "execution_count": null,
      "outputs": []
    },
    {
      "cell_type": "code",
      "metadata": {
        "id": "z2V-JtTys9ZC",
        "colab_type": "code",
        "colab": {}
      },
      "source": [
        "fig, ax = plt.subplots()\n",
        "fig.set_size_inches(20,10)\n",
        "sns.heatmap(corrMatt, mask=mask,vmax=.8, square=True,annot=True)"
      ],
      "execution_count": null,
      "outputs": []
    },
    {
      "cell_type": "code",
      "metadata": {
        "id": "5DjEpjXbtAAQ",
        "colab_type": "code",
        "colab": {}
      },
      "source": [
        "#온도, 습도, 풍속 산점도\n",
        "fig,(ax1,ax2,ax3) = plt.subplots(ncols=3)\n",
        "fig.set_size_inches(12, 5)\n",
        "sns.regplot(x=\"temp\", y=\"count\", data=train,ax=ax1)\n",
        "sns.regplot(x=\"windspeed\", y=\"count\", data=train,ax=ax2)\n",
        "sns.regplot(x=\"humidity\", y=\"count\", data=train,ax=ax3)"
      ],
      "execution_count": null,
      "outputs": []
    },
    {
      "cell_type": "code",
      "metadata": {
        "id": "DMr-fbBOtBnR",
        "colab_type": "code",
        "colab": {}
      },
      "source": [
        "def concatenate_year_month(datetime):\n",
        "    return \"{0}-{1}\".format(datetime.year, datetime.month)\n",
        "\n",
        "train[\"year_month\"] = train[\"datetime\"].apply(concatenate_year_month)\n",
        "\n",
        "print(train.shape)\n",
        "train[[\"datetime\", \"year_month\"]].head()"
      ],
      "execution_count": null,
      "outputs": []
    },
    {
      "cell_type": "code",
      "metadata": {
        "id": "aqfpbXVgtDTk",
        "colab_type": "code",
        "colab": {}
      },
      "source": [
        "fig, (ax1, ax2) = plt.subplots(nrows=1, ncols=2)\n",
        "fig.set_size_inches(18, 4)\n",
        "\n",
        "sns.barplot(data=train, x=\"year\", y=\"count\", ax=ax1)\n",
        "sns.barplot(data=train, x=\"month\", y=\"count\", ax=ax2)\n",
        "\n",
        "fig, ax3 = plt.subplots(nrows=1, ncols=1)\n",
        "fig.set_size_inches(18, 4)\n",
        "\n",
        "sns.barplot(data=train, x=\"year_month\", y=\"count\", ax=ax3)"
      ],
      "execution_count": null,
      "outputs": []
    },
    {
      "cell_type": "code",
      "metadata": {
        "id": "4JIuuyHrtEyQ",
        "colab_type": "code",
        "colab": {}
      },
      "source": [
        "# trainWithoutOutliers\n",
        "trainWithoutOutliers = train[np.abs(train[\"count\"] - train[\"count\"].mean()) <= (3*train[\"count\"].std())]\n",
        "\n",
        "print(train.shape)\n",
        "print(trainWithoutOutliers.shape)"
      ],
      "execution_count": null,
      "outputs": []
    },
    {
      "cell_type": "code",
      "metadata": {
        "id": "qmpb2fLPtGf0",
        "colab_type": "code",
        "colab": {}
      },
      "source": [
        "# count값의 데이터 분포도를 파악\n",
        "\n",
        "figure, axes = plt.subplots(ncols=2, nrows=2)\n",
        "figure.set_size_inches(12, 10)\n",
        "\n",
        "sns.distplot(train[\"count\"], ax=axes[0][0])\n",
        "stats.probplot(train[\"count\"], dist='norm', fit=True, plot=axes[0][1])\n",
        "sns.distplot(np.log(trainWithoutOutliers[\"count\"]), ax=axes[1][0])\n",
        "stats.probplot(np.log1p(trainWithoutOutliers[\"count\"]), dist='norm', fit=True, plot=axes[1][1])"
      ],
      "execution_count": null,
      "outputs": []
    },
    {
      "cell_type": "markdown",
      "metadata": {
        "id": "nkPRqRghBzP-",
        "colab_type": "text"
      },
      "source": [
        "3.2사이킷런 소개"
      ]
    },
    {
      "cell_type": "markdown",
      "metadata": {
        "id": "iE3xn_-ACDPB",
        "colab_type": "text"
      },
      "source": [
        "3.3 랜덤포레스트만으로 경진대회 참여하기"
      ]
    },
    {
      "cell_type": "code",
      "metadata": {
        "id": "QcjPV06mCNRz",
        "colab_type": "code",
        "colab": {}
      },
      "source": [
        "import pandas as pd\n",
        "import numpy as np\n",
        "\n",
        "import matplotlib as mpl\n",
        "import matplotlib.pyplot as plt\n",
        "import seaborn as sns\n",
        "\n",
        "# 노트북 안에 그래프를 그리기 위해\n",
        "%matplotlib inline\n",
        "\n",
        "# 그래프에서 마이너스 폰트 깨지는 문제에 대한 대처\n",
        "mpl.rcParams['axes.unicode_minus'] = False\n",
        "\n",
        "import warnings\n",
        "warnings.filterwarnings('ignore')"
      ],
      "execution_count": null,
      "outputs": []
    },
    {
      "cell_type": "code",
      "metadata": {
        "id": "6zgP31o4CWG3",
        "colab_type": "code",
        "colab": {}
      },
      "source": [
        "train = pd.read_csv(\"data/train.csv\", parse_dates=[\"datetime\"])\n",
        "train.shape"
      ],
      "execution_count": null,
      "outputs": []
    },
    {
      "cell_type": "code",
      "metadata": {
        "id": "ZmUnp7NACXO_",
        "colab_type": "code",
        "colab": {}
      },
      "source": [
        "test = pd.read_csv(\"data/test.csv\", parse_dates=[\"datetime\"])\n",
        "test.shape"
      ],
      "execution_count": null,
      "outputs": []
    },
    {
      "cell_type": "code",
      "metadata": {
        "id": "HMpB0IWMCYh8",
        "colab_type": "code",
        "colab": {}
      },
      "source": [
        "train[\"year\"] = train[\"datetime\"].dt.year\n",
        "train[\"month\"] = train[\"datetime\"].dt.month\n",
        "train[\"day\"] = train[\"datetime\"].dt.day\n",
        "train[\"hour\"] = train[\"datetime\"].dt.hour\n",
        "train[\"minute\"] = train[\"datetime\"].dt.minute\n",
        "train[\"second\"] = train[\"datetime\"].dt.second\n",
        "train[\"dayofweek\"] = train[\"datetime\"].dt.dayofweek\n",
        "train.shape"
      ],
      "execution_count": null,
      "outputs": []
    },
    {
      "cell_type": "code",
      "metadata": {
        "id": "3K0bp6dCCZaY",
        "colab_type": "code",
        "colab": {}
      },
      "source": [
        "test[\"year\"] = test[\"datetime\"].dt.year\n",
        "test[\"month\"] = test[\"datetime\"].dt.month\n",
        "test[\"day\"] = test[\"datetime\"].dt.day\n",
        "test[\"hour\"] = test[\"datetime\"].dt.hour\n",
        "test[\"minute\"] = test[\"datetime\"].dt.minute\n",
        "test[\"second\"] = test[\"datetime\"].dt.second\n",
        "test[\"dayofweek\"] = test[\"datetime\"].dt.dayofweek\n",
        "test.shape"
      ],
      "execution_count": null,
      "outputs": []
    },
    {
      "cell_type": "code",
      "metadata": {
        "id": "y5N3nX2CCaoO",
        "colab_type": "code",
        "colab": {}
      },
      "source": [
        "# widspeed 풍속에 0 값이 가장 많다. => 잘못 기록된 데이터를 고쳐 줄 필요가 있음\n",
        "fig, axes = plt.subplots(nrows=2)\n",
        "fig.set_size_inches(18,10)\n",
        "\n",
        "plt.sca(axes[0])\n",
        "plt.xticks(rotation=30, ha='right')\n",
        "axes[0].set(ylabel='Count',title=\"train windspeed\")\n",
        "sns.countplot(data=train, x=\"windspeed\", ax=axes[0])\n",
        "\n",
        "plt.sca(axes[1])\n",
        "plt.xticks(rotation=30, ha='right')\n",
        "axes[1].set(ylabel='Count',title=\"test windspeed\")\n",
        "sns.countplot(data=test, x=\"windspeed\", ax=axes[1])"
      ],
      "execution_count": null,
      "outputs": []
    },
    {
      "cell_type": "code",
      "metadata": {
        "id": "B7gHToCYCcNi",
        "colab_type": "code",
        "colab": {}
      },
      "source": [
        "# 풍속의 0값에 특정 값을 넣어준다.\n",
        "# 평균을 구해 일괄적으로 넣어줄 수도 있지만, 예측의 정확도를 높이는 데 도움이 될것 같진 않다.\n",
        "# train.loc[train[\"windspeed\"] == 0, \"windspeed\"] = train[\"windspeed\"].mean()\n",
        "# test.loc[train[\"windspeed\"] == 0, \"windspeed\"] = train[\"windspeed\"].mean()"
      ],
      "execution_count": null,
      "outputs": []
    },
    {
      "cell_type": "code",
      "metadata": {
        "id": "Mg3nxcliCfLL",
        "colab_type": "code",
        "colab": {}
      },
      "source": [
        "# 풍속이 0인것과 아닌 것의 세트를 나누어 준다.\n",
        "trainWind0 = train.loc[train['windspeed'] == 0]\n",
        "trainWindNot0 = train.loc[train['windspeed'] != 0]\n",
        "print(trainWind0.shape)\n",
        "print(trainWindNot0.shape)"
      ],
      "execution_count": null,
      "outputs": []
    },
    {
      "cell_type": "code",
      "metadata": {
        "id": "q6yi0RVAChO2",
        "colab_type": "code",
        "colab": {}
      },
      "source": [
        "# 그래서 머신러닝으로 예측을 해서 풍속을 넣어주도록 한다.\n",
        "from sklearn.ensemble import RandomForestClassifier\n",
        "\n",
        "def predict_windspeed(data):\n",
        "    \n",
        "    # 풍속이 0인것과 아닌 것을 나누어 준다.\n",
        "    dataWind0 = data.loc[data['windspeed'] == 0]\n",
        "    dataWindNot0 = data.loc[data['windspeed'] != 0]\n",
        "    \n",
        "    # 풍속을 예측할 피처를 선택한다.\n",
        "    wCol = [\"season\", \"weather\", \"humidity\", \"month\", \"temp\", \"year\", \"atemp\"]\n",
        "\n",
        "    # 풍속이 0이 아닌 데이터들의 타입을 스트링으로 바꿔준다.\n",
        "    dataWindNot0[\"windspeed\"] = dataWindNot0[\"windspeed\"].astype(\"str\")\n",
        "\n",
        "    # 랜덤포레스트 분류기를 사용한다.\n",
        "    rfModel_wind = RandomForestClassifier()\n",
        "\n",
        "    # wCol에 있는 피처의 값을 바탕으로 풍속을 학습시킨다.\n",
        "    rfModel_wind.fit(dataWindNot0[wCol], dataWindNot0[\"windspeed\"])\n",
        "\n",
        "    # 학습한 값을 바탕으로 풍속이 0으로 기록 된 데이터의 풍속을 예측한다.\n",
        "    wind0Values = rfModel_wind.predict(X = dataWind0[wCol])\n",
        "\n",
        "    # 값을 다 예측 후 비교해 보기 위해\n",
        "    # 예측한 값을 넣어 줄 데이터 프레임을 새로 만든다.\n",
        "    predictWind0 = dataWind0\n",
        "    predictWindNot0 = dataWindNot0\n",
        "\n",
        "    # 값이 0으로 기록 된 풍속에 대해 예측한 값을 넣어준다.\n",
        "    predictWind0[\"windspeed\"] = wind0Values\n",
        "\n",
        "    # dataWindNot0 0이 아닌 풍속이 있는 데이터프레임에 예측한 값이 있는 데이터프레임을 합쳐준다.\n",
        "    data = predictWindNot0.append(predictWind0)\n",
        "\n",
        "    # 풍속의 데이터타입을 float으로 지정해 준다.\n",
        "    data[\"windspeed\"] = data[\"windspeed\"].astype(\"float\")\n",
        "\n",
        "    data.reset_index(inplace=True)\n",
        "    data.drop('index', inplace=True, axis=1)\n",
        "    \n",
        "    return data"
      ],
      "execution_count": null,
      "outputs": []
    },
    {
      "cell_type": "code",
      "metadata": {
        "id": "QvyRaa_TCjRB",
        "colab_type": "code",
        "colab": {}
      },
      "source": [
        "# 0값을 조정한다.\n",
        "train = predict_windspeed(train)\n",
        "# test = predict_windspeed(test)\n",
        "\n",
        "# widspeed 의 0값을 조정한 데이터를 시각화\n",
        "fig, ax1 = plt.subplots()\n",
        "fig.set_size_inches(18,6)\n",
        "\n",
        "plt.sca(ax1)\n",
        "plt.xticks(rotation=30, ha='right')\n",
        "ax1.set(ylabel='Count',title=\"train windspeed\")\n",
        "sns.countplot(data=train, x=\"windspeed\", ax=ax1)"
      ],
      "execution_count": null,
      "outputs": []
    },
    {
      "cell_type": "code",
      "metadata": {
        "id": "zPEl9bmzClJd",
        "colab_type": "code",
        "colab": {}
      },
      "source": [
        "# 연속형 feature와 범주형 feature \n",
        "# 연속형 feature = [\"temp\",\"humidity\",\"windspeed\",\"atemp\"]\n",
        "# 범주형 feature의 type을 category로 변경 해 준다.\n",
        "categorical_feature_names = [\"season\",\"holiday\",\"workingday\",\"weather\",\n",
        "                             \"dayofweek\",\"month\",\"year\",\"hour\"]\n",
        "\n",
        "for var in categorical_feature_names:\n",
        "    train[var] = train[var].astype(\"category\")\n",
        "    test[var] = test[var].astype(\"category\")"
      ],
      "execution_count": null,
      "outputs": []
    },
    {
      "cell_type": "code",
      "metadata": {
        "id": "g1Ecku5mCmct",
        "colab_type": "code",
        "colab": {}
      },
      "source": [
        "feature_names = [\"season\", \"weather\", \"temp\", \"atemp\", \"humidity\", \"windspeed\",\n",
        "                 \"year\", \"hour\", \"dayofweek\", \"holiday\", \"workingday\"]\n",
        "\n",
        "feature_names"
      ],
      "execution_count": null,
      "outputs": []
    },
    {
      "cell_type": "code",
      "metadata": {
        "id": "ZCu1r5nHCojy",
        "colab_type": "code",
        "colab": {}
      },
      "source": [
        "X_train = train[feature_names]\n",
        "\n",
        "print(X_train.shape)\n",
        "X_train.head()"
      ],
      "execution_count": null,
      "outputs": []
    },
    {
      "cell_type": "code",
      "metadata": {
        "id": "BkSLuODnCqHa",
        "colab_type": "code",
        "colab": {}
      },
      "source": [
        "X_test = test[feature_names]\n",
        "\n",
        "print(X_test.shape)\n",
        "X_test.head()"
      ],
      "execution_count": null,
      "outputs": []
    },
    {
      "cell_type": "code",
      "metadata": {
        "id": "9FMyDl9WCrx6",
        "colab_type": "code",
        "colab": {}
      },
      "source": [
        "label_name = \"count\"\n",
        "\n",
        "y_train = train[label_name]\n",
        "\n",
        "print(y_train.shape)\n",
        "y_train.head()"
      ],
      "execution_count": null,
      "outputs": []
    },
    {
      "cell_type": "code",
      "metadata": {
        "id": "4t86I0ytCuhg",
        "colab_type": "code",
        "colab": {}
      },
      "source": [
        "from sklearn.metrics import make_scorer\n",
        "\n",
        "def rmsle(predicted_values, actual_values):\n",
        "    # 넘파이로 배열 형태로 바꿔준다.\n",
        "    predicted_values = np.array(predicted_values)\n",
        "    actual_values = np.array(actual_values)\n",
        "    \n",
        "    # 예측값과 실제 값에 1을 더하고 로그를 씌워준다.\n",
        "    log_predict = np.log(predicted_values + 1)\n",
        "    log_actual = np.log(actual_values + 1)\n",
        "    \n",
        "    # 위에서 계산한 예측값에서 실제값을 빼주고 제곱을 해준다.\n",
        "    difference = log_predict - log_actual\n",
        "    # difference = (log_predict - log_actual) ** 2\n",
        "    difference = np.square(difference)\n",
        "    \n",
        "    # 평균을 낸다.\n",
        "    mean_difference = difference.mean()\n",
        "    \n",
        "    # 다시 루트를 씌운다.\n",
        "    score = np.sqrt(mean_difference)\n",
        "    \n",
        "    return score\n",
        "\n",
        "rmsle_scorer = make_scorer(rmsle)"
      ],
      "execution_count": null,
      "outputs": []
    },
    {
      "cell_type": "code",
      "metadata": {
        "id": "60TZfx3MCwTm",
        "colab_type": "code",
        "colab": {}
      },
      "source": [
        "from sklearn.model_selection import KFold\n",
        "from sklearn.model_selection import cross_val_score\n",
        "\n",
        "k_fold = KFold(n_splits=10, shuffle=True, random_state=0)"
      ],
      "execution_count": null,
      "outputs": []
    },
    {
      "cell_type": "code",
      "metadata": {
        "id": "dw4r8lbhCxw7",
        "colab_type": "code",
        "colab": {}
      },
      "source": [
        "from sklearn.ensemble import RandomForestRegressor\n",
        "\n",
        "max_depth_list = []\n",
        "\n",
        "model = RandomForestRegressor(n_estimators=100,\n",
        "                              n_jobs=-1,\n",
        "                              random_state=0)\n",
        "model"
      ],
      "execution_count": null,
      "outputs": []
    },
    {
      "cell_type": "code",
      "metadata": {
        "id": "Nmls-RB9CzWK",
        "colab_type": "code",
        "colab": {}
      },
      "source": [
        "%time score = cross_val_score(model, X_train, y_train, cv=k_fold, scoring=rmsle_scorer)\n",
        "score = score.mean()\n",
        "# 0에 근접할수록 좋은 데이터\n",
        "print(\"Score= {0:.5f}\".format(score))"
      ],
      "execution_count": null,
      "outputs": []
    },
    {
      "cell_type": "code",
      "metadata": {
        "id": "ZuvEyulVC1QU",
        "colab_type": "code",
        "colab": {}
      },
      "source": [
        "# 학습시킴, 피팅(옷을 맞출 때 사용하는 피팅을 생각함) - 피처와 레이블을 넣어주면 알아서 학습을 함\n",
        "model.fit(X_train, y_train)"
      ],
      "execution_count": null,
      "outputs": []
    },
    {
      "cell_type": "code",
      "metadata": {
        "id": "l4e6xXVNC144",
        "colab_type": "code",
        "colab": {}
      },
      "source": [
        "# 예측\n",
        "predictions = model.predict(X_test)\n",
        "\n",
        "print(predictions.shape)\n",
        "predictions[0:10]"
      ],
      "execution_count": null,
      "outputs": []
    },
    {
      "cell_type": "code",
      "metadata": {
        "id": "by5WAXMCC3xh",
        "colab_type": "code",
        "colab": {}
      },
      "source": [
        "# 예측한 데이터를 시각화 해본다. \n",
        "fig,(ax1,ax2)= plt.subplots(ncols=2)\n",
        "fig.set_size_inches(12,5)\n",
        "sns.distplot(y_train,ax=ax1,bins=50)\n",
        "ax1.set(title=\"train\")\n",
        "sns.distplot(predictions,ax=ax2,bins=50)\n",
        "ax2.set(title=\"test\")"
      ],
      "execution_count": null,
      "outputs": []
    },
    {
      "cell_type": "code",
      "metadata": {
        "id": "F3chyrXKC5uL",
        "colab_type": "code",
        "colab": {}
      },
      "source": [
        "#마무리\n",
        "submission = pd.read_csv(\"data/sampleSubmission.csv\")\n",
        "submission\n",
        "\n",
        "submission[\"count\"] = predictions\n",
        "\n",
        "print(submission.shape)\n",
        "submission.head()"
      ],
      "execution_count": null,
      "outputs": []
    },
    {
      "cell_type": "code",
      "metadata": {
        "id": "8s9E0AgTC9tm",
        "colab_type": "code",
        "colab": {}
      },
      "source": [
        "submission.to_csv(\"data/Score_{0:.5f}_submission.csv\".format(score), index=False)"
      ],
      "execution_count": null,
      "outputs": []
    },
    {
      "cell_type": "markdown",
      "metadata": {
        "id": "Qdmb5Oi5DG7s",
        "colab_type": "text"
      },
      "source": [
        "3.4 다양한 모델 사용해 상위 5%이내 점수 얻기"
      ]
    },
    {
      "cell_type": "markdown",
      "metadata": {
        "id": "Zz4yi7YVDw-c",
        "colab_type": "text"
      },
      "source": [
        "앙상블 모델"
      ]
    },
    {
      "cell_type": "code",
      "metadata": {
        "id": "ipK7-7h_Dijk",
        "colab_type": "code",
        "colab": {}
      },
      "source": [
        "import pandas as pd\n",
        "import numpy as np\n",
        "import matplotlib as mpl\n",
        "import matplotlib.pyplot as plt\n",
        "import seaborn as sns\n",
        "from scipy import stats\n",
        "\n",
        "# 노트북 안에 그래프를 그리기 위해\n",
        "%matplotlib inline\n",
        "\n",
        "# 그래프에서 격자로 숫자 범위가 눈에 잘 띄도록 ggplot 스타일을 사용\n",
        "plt.style.use('ggplot')\n",
        "\n",
        "# 그래프에서 마이너스 폰트 깨지는 문제에 대한 대처\n",
        "mpl.rcParams['axes.unicode_minus'] = False\n",
        "\n",
        "import warnings\n",
        "warnings.filterwarnings('ignore')"
      ],
      "execution_count": null,
      "outputs": []
    },
    {
      "cell_type": "code",
      "metadata": {
        "id": "SVYIVq0zDjaH",
        "colab_type": "code",
        "colab": {}
      },
      "source": [
        "train = pd.read_csv(\"data/train.csv\", parse_dates=[\"datetime\"])\n",
        "train.shape"
      ],
      "execution_count": null,
      "outputs": []
    },
    {
      "cell_type": "code",
      "metadata": {
        "id": "-y34Qi7YD0gI",
        "colab_type": "code",
        "colab": {}
      },
      "source": [
        "test = pd.read_csv(\"data/test.csv\", parse_dates=[\"datetime\"])\n",
        "test.shape"
      ],
      "execution_count": null,
      "outputs": []
    },
    {
      "cell_type": "code",
      "metadata": {
        "id": "uN8ESwIDD2dg",
        "colab_type": "code",
        "colab": {}
      },
      "source": [
        "train[\"year\"] = train[\"datetime\"].dt.year\n",
        "train[\"month\"] = train[\"datetime\"].dt.month\n",
        "train[\"hour\"] = train[\"datetime\"].dt.hour\n",
        "train[\"dayofweek\"] = train[\"datetime\"].dt.dayofweek\n",
        "train.shape"
      ],
      "execution_count": null,
      "outputs": []
    },
    {
      "cell_type": "code",
      "metadata": {
        "id": "ZuHHBF-3D4Nn",
        "colab_type": "code",
        "colab": {}
      },
      "source": [
        "test[\"year\"] = test[\"datetime\"].dt.year\n",
        "test[\"month\"] = test[\"datetime\"].dt.month\n",
        "test[\"hour\"] = test[\"datetime\"].dt.hour\n",
        "test[\"dayofweek\"] = test[\"datetime\"].dt.dayofweek\n",
        "test.shape"
      ],
      "execution_count": null,
      "outputs": []
    },
    {
      "cell_type": "code",
      "metadata": {
        "id": "aPhCmBPOD5fA",
        "colab_type": "code",
        "colab": {}
      },
      "source": [
        "# 연속형 feature와 범주형 feature\n",
        "# 범주형 feature의 type을 category로 변경 해 준다.\n",
        "categorical_feature_names = [\"season\",\"holiday\",\"workingday\",\"weather\",\n",
        "                             \"dayofweek\",\"month\",\"year\",\"hour\"]"
      ],
      "execution_count": null,
      "outputs": []
    },
    {
      "cell_type": "code",
      "metadata": {
        "id": "djXJasmPD61L",
        "colab_type": "code",
        "colab": {}
      },
      "source": [
        "for var in categorical_feature_names:\n",
        "    train[var] = train[var].astype(\"category\")\n",
        "    test[var] = test[var].astype(\"category\")"
      ],
      "execution_count": null,
      "outputs": []
    },
    {
      "cell_type": "code",
      "metadata": {
        "id": "aemvtDf4D7_i",
        "colab_type": "code",
        "colab": {}
      },
      "source": [
        "feature_names = [\"season\", \"weather\", \"temp\", \"atemp\", \"humidity\",\n",
        "                 \"year\", \"hour\", \"dayofweek\", \"holiday\", \"workingday\"\n",
        "                ]\n",
        "\n",
        "feature_names"
      ],
      "execution_count": null,
      "outputs": []
    },
    {
      "cell_type": "code",
      "metadata": {
        "id": "s1jYuoGVD9YA",
        "colab_type": "code",
        "colab": {}
      },
      "source": [
        "X_train = train[feature_names]\n",
        "\n",
        "print(X_train.shape)\n",
        "X_train.head()"
      ],
      "execution_count": null,
      "outputs": []
    },
    {
      "cell_type": "code",
      "metadata": {
        "id": "f-qDZPXnD-lC",
        "colab_type": "code",
        "colab": {}
      },
      "source": [
        "X_test = test[feature_names]\n",
        "\n",
        "print(X_test.shape)\n",
        "X_test.head()"
      ],
      "execution_count": null,
      "outputs": []
    },
    {
      "cell_type": "code",
      "metadata": {
        "id": "zI4zhaPnD_2i",
        "colab_type": "code",
        "colab": {}
      },
      "source": [
        "label_name = \"count\"\n",
        "\n",
        "y_train = train[label_name]\n",
        "\n",
        "print(y_train.shape)\n",
        "y_train.head()"
      ],
      "execution_count": null,
      "outputs": []
    },
    {
      "cell_type": "code",
      "metadata": {
        "id": "IVnw0pJOECGS",
        "colab_type": "code",
        "colab": {}
      },
      "source": [
        "from sklearn.metrics import make_scorer\n",
        "\n",
        "def rmsle(predicted_values, actual_values, convertExp=True):\n",
        "\n",
        "    if convertExp:\n",
        "        predicted_values = np.exp(predicted_values),\n",
        "        actual_values = np.exp(actual_values)\n",
        "        \n",
        "    # 넘파이로 배열 형태로 바꿔준다.\n",
        "    predicted_values = np.array(predicted_values)\n",
        "    actual_values = np.array(actual_values)\n",
        "    \n",
        "    # 예측값과 실제 값에 1을 더하고 로그를 씌워준다.\n",
        "    # 값이 0일 수도 있어서 로그를 취했을 때 마이너스 무한대가 될 수도 있기 때문에 1을 더해 줌\n",
        "    # 로그를 씌워주는 것은 정규분포로 만들어주기 위해\n",
        "    log_predict = np.log(predicted_values + 1)\n",
        "    log_actual = np.log(actual_values + 1)\n",
        "    \n",
        "    # 위에서 계산한 예측값에서 실제값을 빼주고 제곱을 해준다.\n",
        "    difference = log_predict - log_actual\n",
        "    difference = np.square(difference)\n",
        "    \n",
        "    # 평균을 낸다.\n",
        "    mean_difference = difference.mean()\n",
        "    \n",
        "    # 다시 루트를 씌운다.\n",
        "    score = np.sqrt(mean_difference)\n",
        "    \n",
        "    return score"
      ],
      "execution_count": null,
      "outputs": []
    },
    {
      "cell_type": "markdown",
      "metadata": {
        "id": "b5zwNoiJEV4X",
        "colab_type": "text"
      },
      "source": [
        "선형회귀 모델 Linear Regression Model"
      ]
    },
    {
      "cell_type": "code",
      "metadata": {
        "id": "YWxx6KVtEEHc",
        "colab_type": "code",
        "colab": {}
      },
      "source": [
        "from sklearn.linear_model import LinearRegression, Ridge, Lasso\n",
        "from sklearn.model_selection import GridSearchCV\n",
        "from sklearn import metrics\n",
        "import warnings\n",
        "pd.options.mode.chained_assignment = None\n",
        "warnings.filterwarnings(\"ignore\", category=DeprecationWarning)\n",
        "\n",
        "# 선형회귀 모델을 초기화\n",
        "lModel = LinearRegression()\n",
        "\n",
        "# 모델을 학습시킨다.\n",
        "y_train_log = np.log1p(y_train)\n",
        "lModel.fit(X_train, y_train_log)\n",
        "\n",
        "# 예측하고 정확도를 평가한다.\n",
        "preds = lModel.predict(X_train)\n",
        "print (\"RMSLE Value For Linear Regression: \",\n",
        "       rmsle(np.exp(y_train_log),np.exp(preds), False))"
      ],
      "execution_count": null,
      "outputs": []
    },
    {
      "cell_type": "markdown",
      "metadata": {
        "id": "DQmReeU3ESZX",
        "colab_type": "text"
      },
      "source": [
        "릿지 Regularization Model - Ridge"
      ]
    },
    {
      "cell_type": "code",
      "metadata": {
        "id": "0puaZ1aoEGS8",
        "colab_type": "code",
        "colab": {}
      },
      "source": [
        "ridge_m_ = Ridge()\n",
        "ridge_params_ = { 'max_iter':[3000],'alpha':[0.01, 0.1, 1, 2, 3, 4, 10, 30,100,200,300,400,800,900,1000]}\n",
        "rmsle_scorer = metrics.make_scorer(rmsle, greater_is_better=False)\n",
        "grid_ridge_m = GridSearchCV( ridge_m_,\n",
        "                          ridge_params_,\n",
        "                          scoring = rmsle_scorer,\n",
        "                          cv=5)\n",
        "\n",
        "y_train_log = np.log1p(y_train)\n",
        "grid_ridge_m.fit( X_train, y_train_log )\n",
        "preds = grid_ridge_m.predict(X_train)\n",
        "print (grid_ridge_m.best_params_)\n",
        "print (\"RMSLE Value For Ridge Regression: \", rmsle(np.exp(y_train_log),np.exp(preds), False))\n",
        "\n",
        "df = pd.DataFrame(grid_ridge_m.cv_results_)\n",
        "df.head()"
      ],
      "execution_count": null,
      "outputs": []
    },
    {
      "cell_type": "code",
      "metadata": {
        "id": "UAuO3vkUEID5",
        "colab_type": "code",
        "colab": {}
      },
      "source": [
        "df[\"alpha\"] = df[\"params\"].apply(lambda x:x[\"alpha\"])\n",
        "df[\"rmsle\"] = df[\"mean_test_score\"].apply(lambda x:-x)\n",
        "df[[\"alpha\", \"rmsle\"]].head()"
      ],
      "execution_count": null,
      "outputs": []
    },
    {
      "cell_type": "code",
      "metadata": {
        "id": "Zm7y3lreEJ8I",
        "colab_type": "code",
        "colab": {}
      },
      "source": [
        "fig,ax= plt.subplots()\n",
        "fig.set_size_inches(12,5)\n",
        "plt.xticks(rotation=30, ha='right')\n",
        "sns.pointplot(data=df,x=\"alpha\",y=\"rmsle\",ax=ax)"
      ],
      "execution_count": null,
      "outputs": []
    },
    {
      "cell_type": "markdown",
      "metadata": {
        "id": "Vvnaxm2uENHV",
        "colab_type": "text"
      },
      "source": [
        "라쏘 Regularization Model - Lasso"
      ]
    },
    {
      "cell_type": "code",
      "metadata": {
        "id": "GlNsnbTxEMV9",
        "colab_type": "code",
        "colab": {}
      },
      "source": [
        "lasso_m_ = Lasso()\n",
        "\n",
        "alpha  = 1/np.array([0.1, 1, 2, 3, 4, 10, 30,100,200,300,400,800,900,1000])\n",
        "lasso_params_ = { 'max_iter':[3000],'alpha':alpha}\n",
        "\n",
        "grid_lasso_m = GridSearchCV( lasso_m_,lasso_params_,scoring = rmsle_scorer,cv=5)\n",
        "y_train_log = np.log1p(y_train)\n",
        "grid_lasso_m.fit( X_train , y_train_log )\n",
        "preds = grid_lasso_m.predict(X_train)\n",
        "print (grid_lasso_m.best_params_)\n",
        "print (\"RMSLE Value For Lasso Regression: \",rmsle(np.exp(y_train_log),np.exp(preds),False))\n",
        "\n",
        "df = pd.DataFrame(grid_lasso_m.cv_results_)\n",
        "df[\"alpha\"] = df[\"params\"].apply(lambda x:x[\"alpha\"])\n",
        "df[\"rmsle\"] = df[\"mean_test_score\"].apply(lambda x:-x)\n",
        "\n",
        "df[[\"alpha\", \"rmsle\"]].head()"
      ],
      "execution_count": null,
      "outputs": []
    },
    {
      "cell_type": "code",
      "metadata": {
        "id": "7Dj8208vEcs-",
        "colab_type": "code",
        "colab": {}
      },
      "source": [
        "fig,ax= plt.subplots()\n",
        "fig.set_size_inches(12,5)\n",
        "plt.xticks(rotation=30, ha='right')\n",
        "sns.pointplot(data=df,x=\"alpha\",y=\"rmsle\",ax=ax)"
      ],
      "execution_count": null,
      "outputs": []
    },
    {
      "cell_type": "markdown",
      "metadata": {
        "id": "cO6SPMgBEbTR",
        "colab_type": "text"
      },
      "source": [
        "앙상블모델 - 랜덤포레스트"
      ]
    },
    {
      "cell_type": "code",
      "metadata": {
        "id": "u044A7RgEf7p",
        "colab_type": "code",
        "colab": {}
      },
      "source": [
        "from sklearn.ensemble import RandomForestRegressor\n",
        "rfModel = RandomForestRegressor(n_estimators=100)\n",
        "\n",
        "y_train_log = np.log1p(y_train)\n",
        "rfModel.fit(X_train, y_train_log)\n",
        "\n",
        "preds = rfModel.predict(X_train)\n",
        "score = rmsle(np.exp(y_train_log),np.exp(preds),False)\n",
        "print (\"RMSLE Value For Random Forest: \",score)"
      ],
      "execution_count": null,
      "outputs": []
    },
    {
      "cell_type": "markdown",
      "metadata": {
        "id": "6ic2SbqZEh07",
        "colab_type": "text"
      },
      "source": [
        "앙상블모델 - 그라디언트 부스트"
      ]
    },
    {
      "cell_type": "code",
      "metadata": {
        "id": "0cyjmw8yEjNA",
        "colab_type": "code",
        "colab": {}
      },
      "source": [
        "from sklearn.ensemble import GradientBoostingRegressor\n",
        "gbm = GradientBoostingRegressor(n_estimators=4000, alpha=0.01);\n",
        "\n",
        "y_train_log = np.log1p(y_train)\n",
        "gbm.fit(X_train, y_train_log)\n",
        "\n",
        "preds = gbm.predict(X_train)\n",
        "score = rmsle(np.exp(y_train_log),np.exp(preds),False)\n",
        "print (\"RMSLE Value For Gradient Boost: \", score)"
      ],
      "execution_count": null,
      "outputs": []
    },
    {
      "cell_type": "code",
      "metadata": {
        "id": "04AM6XoVEmr1",
        "colab_type": "code",
        "colab": {}
      },
      "source": [
        "fig,(ax1,ax2)= plt.subplots(ncols=2)\n",
        "fig.set_size_inches(12,5)\n",
        "sns.distplot(y_train,ax=ax1,bins=50)\n",
        "sns.distplot(np.exp(predsTest),ax=ax2,bins=50)"
      ],
      "execution_count": null,
      "outputs": []
    },
    {
      "cell_type": "code",
      "metadata": {
        "id": "zYlr3iCBEp4y",
        "colab_type": "code",
        "colab": {}
      },
      "source": [
        "#합산\n",
        "submission = pd.read_csv(\"data/sampleSubmission.csv\")\n",
        "submission\n",
        "\n",
        "submission[\"count\"] = np.exp(predsTest)\n",
        "\n",
        "print(submission.shape)\n",
        "submission.head()"
      ],
      "execution_count": null,
      "outputs": []
    },
    {
      "cell_type": "code",
      "metadata": {
        "id": "3vXJRK6tEssE",
        "colab_type": "code",
        "colab": {}
      },
      "source": [
        "submission.to_csv(f\"data/Score_{score:.5f}_submission.csv\", index=False)"
      ],
      "execution_count": null,
      "outputs": []
    }
  ]
}