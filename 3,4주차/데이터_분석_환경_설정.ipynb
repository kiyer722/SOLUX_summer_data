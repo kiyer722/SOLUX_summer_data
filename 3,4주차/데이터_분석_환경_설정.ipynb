{
  "nbformat": 4,
  "nbformat_minor": 0,
  "metadata": {
    "colab": {
      "name": "데이터 분석 환경 설정",
      "provenance": [],
      "collapsed_sections": [],
      "authorship_tag": "ABX9TyNSEWt64lw4fAOPf5ehiz4O",
      "include_colab_link": true
    },
    "kernelspec": {
      "name": "python3",
      "display_name": "Python 3"
    }
  },
  "cells": [
    {
      "cell_type": "markdown",
      "metadata": {
        "id": "view-in-github",
        "colab_type": "text"
      },
      "source": [
        "<a href=\"https://colab.research.google.com/github/kiyer722/SOLUX_summer_data/blob/master/3%2C4%EC%A3%BC%EC%B0%A8/%EB%8D%B0%EC%9D%B4%ED%84%B0_%EB%B6%84%EC%84%9D_%ED%99%98%EA%B2%BD_%EC%84%A4%EC%A0%95.ipynb\" target=\"_parent\"><img src=\"https://colab.research.google.com/assets/colab-badge.svg\" alt=\"Open In Colab\"/></a>"
      ]
    },
    {
      "cell_type": "markdown",
      "metadata": {
        "id": "BjdL04qcN17D",
        "colab_type": "text"
      },
      "source": [
        "0. 캐글 살펴보기"
      ]
    },
    {
      "cell_type": "markdown",
      "metadata": {
        "id": "TjVD3FDWN6bg",
        "colab_type": "text"
      },
      "source": [
        "위 과정은 코드가 필요없어 생략하였습니다."
      ]
    },
    {
      "cell_type": "markdown",
      "metadata": {
        "id": "Kj6h5Od9KA1P",
        "colab_type": "text"
      },
      "source": [
        "1.1 Matplotlib 한글폰트 사용하기"
      ]
    },
    {
      "cell_type": "code",
      "metadata": {
        "id": "1ByCu81Ebitd",
        "colab_type": "code",
        "colab": {}
      },
      "source": [
        "#나눔 설치(window)\n",
        "!sudo apt-get install -y fonts-nanum\n",
        "!sudo fc-cache -fv\n",
        "!rm ~/.cache/matplotlib -rf"
      ],
      "execution_count": null,
      "outputs": []
    },
    {
      "cell_type": "code",
      "metadata": {
        "id": "0829QLb8bumS",
        "colab_type": "code",
        "colab": {}
      },
      "source": [
        "import matplotlib.pyplot as plt"
      ],
      "execution_count": null,
      "outputs": []
    },
    {
      "cell_type": "code",
      "metadata": {
        "id": "GRmN4jkvdRZk",
        "colab_type": "code",
        "colab": {}
      },
      "source": [
        "#필요한 패키지를 가져옵니다\n",
        "%matplotlib inline\n",
        "import matplotlib as mpl\n",
        "import matplotlib.pyplot as plt\n",
        "import matplotlib.font_manager as fm\n",
        "#마이너스 폰트 깨지는 문제 대처\n",
        "mpl.rcParams['axes.unicode_minus'] = False"
      ],
      "execution_count": null,
      "outputs": []
    },
    {
      "cell_type": "code",
      "metadata": {
        "id": "YC--40gYdRj4",
        "colab_type": "code",
        "colab": {}
      },
      "source": [
        "#임의의 데이터 생성\n",
        "import numpy as np\n",
        "\n",
        "data=np.random.randint(-100,100,50).cumsum()\n",
        "data"
      ],
      "execution_count": null,
      "outputs": []
    },
    {
      "cell_type": "code",
      "metadata": {
        "id": "hD46NBKUel2f",
        "colab_type": "code",
        "colab": {}
      },
      "source": [
        "#한글 깨짐\n",
        "plt.plot(range(50),data,'r')\n",
        "mpl.rcParams['axes.unicode_minus'] = False\n",
        "plt.title('시간별 가격 추이')\n",
        "plt.ylabel('주식 가격')\n",
        "plt.xlabel('시간(분)')"
      ],
      "execution_count": null,
      "outputs": []
    },
    {
      "cell_type": "code",
      "metadata": {
        "id": "uhvFjTa8fYDY",
        "colab_type": "code",
        "colab": {}
      },
      "source": [
        "#위치정보\n",
        "print('설치 위치:',mpl.file)\n",
        "print('설정 위치:',mpl.get_configdir())\n",
        "print('캐시 위치:',mpl.get_cachedir())"
      ],
      "execution_count": null,
      "outputs": []
    },
    {
      "cell_type": "code",
      "metadata": {
        "id": "O-bk8SVYgWFU",
        "colab_type": "code",
        "colab": {}
      },
      "source": [
        "#설치된 폰트 찍기\n",
        "font_list=fm.findSystemFonts(fontpaths=None,fontext='ttf')\n",
        "print(len(font_list))"
      ],
      "execution_count": null,
      "outputs": []
    },
    {
      "cell_type": "code",
      "metadata": {
        "id": "8Xka_FCdhfnm",
        "colab_type": "code",
        "colab": {}
      },
      "source": [
        "#설치된 폰트 가져오는 함수\n",
        "font_list_win=fm.OSXInstalledFonts()\n",
        "print(len(font_list_win))"
      ],
      "execution_count": null,
      "outputs": []
    },
    {
      "cell_type": "code",
      "metadata": {
        "id": "EjspsXbyh11i",
        "colab_type": "code",
        "colab": {}
      },
      "source": [
        "font_list[:10]"
      ],
      "execution_count": null,
      "outputs": []
    },
    {
      "cell_type": "code",
      "metadata": {
        "id": "bna6QMn7h8ch",
        "colab_type": "code",
        "colab": {}
      },
      "source": [
        "f=[f.name for f in fm.fontManger.ttflist]\n",
        "print(len(font_list))\n",
        "f[:10]"
      ],
      "execution_count": null,
      "outputs": []
    },
    {
      "cell_type": "code",
      "metadata": {
        "id": "JVKSZQvpiXff",
        "colab_type": "code",
        "colab": {}
      },
      "source": [
        "[f.name for f in fm.fontManager.ttflist if ''in f.name]"
      ],
      "execution_count": null,
      "outputs": []
    },
    {
      "cell_type": "code",
      "metadata": {
        "id": "Y-o01gYNijqm",
        "colab_type": "code",
        "colab": {}
      },
      "source": [
        "#나눔 들어간 폰트만 가져오기\n",
        "[(f.name,f.fname)for f in fm.fontManager.ttflist if 'Nanum' in f.name]"
      ],
      "execution_count": null,
      "outputs": []
    },
    {
      "cell_type": "code",
      "metadata": {
        "id": "haGkjn67i1vJ",
        "colab_type": "code",
        "colab": {}
      },
      "source": [
        "#FontProperties\n",
        "path='/usr/share/fonts/truetype/nanum/NanumBarunGothic.ttf'\n",
        "fontprop=fm.FontProperties(fname=path,size=18)\n",
        "\n",
        "plt.plot(range(50),data,'r')\n",
        "plt.title('시간별 가격 추이',fontproperties=fontprop)\n",
        "plt.ylabel('주식 가격',fontproperties=fontprop)\n",
        "plt.xlabel('시간(분)',fontproperties=fontprop)\n",
        "plt.show"
      ],
      "execution_count": null,
      "outputs": []
    },
    {
      "cell_type": "code",
      "metadata": {
        "id": "_2QqiqXdkefn",
        "colab_type": "code",
        "colab": {}
      },
      "source": [
        "#matpolotlib.rcParam\n",
        "import matplotlib.pyplot as plt\n",
        "\n",
        "print('#설정 되어있는 폰트 사이즈')\n",
        "print(plt.rcParams['font.size'])\n",
        "print('#설정 되어있는 폰트 글꼴')\n",
        "print(plt.rcParams['font.family'])"
      ],
      "execution_count": null,
      "outputs": []
    },
    {
      "cell_type": "code",
      "metadata": {
        "id": "jHcD9aU1lFyG",
        "colab_type": "code",
        "colab": {}
      },
      "source": [
        "print('serif 세리프가 있는 폰트')\n",
        "print(plt.rcParams['font.serif'])\n",
        "print('sans_serif 세리프가 없는 폰트')\n",
        "print(plt.rcParams['font.sans-serif'])\n",
        "print('manospace 고정폭 글꼴')\n",
        "print(plt.rcParams['font.monospace'])"
      ],
      "execution_count": null,
      "outputs": []
    },
    {
      "cell_type": "code",
      "metadata": {
        "id": "WF0G-wZLl0U3",
        "colab_type": "code",
        "colab": {}
      },
      "source": [
        "plt.rcParams[\"font.family\"]='NanumBarunGothic'\n",
        "plt.rcParams[\"font.size\"]=20\n",
        "plt.rcParams[\"figure.figsize\"]=(14,4)"
      ],
      "execution_count": null,
      "outputs": []
    },
    {
      "cell_type": "code",
      "metadata": {
        "id": "clryKCPZmZjL",
        "colab_type": "code",
        "colab": {}
      },
      "source": [
        "plt.plot(range(50),data,'r')\n",
        "plt.title('시간별 가격 추이')\n",
        "plt.ylabel('주식 가격')\n",
        "plt.xlabel('시간(분)')\n",
        "plt.style.use('seaborn-pastel')\n",
        "plt.show()"
      ],
      "execution_count": null,
      "outputs": []
    },
    {
      "cell_type": "code",
      "metadata": {
        "id": "UV7H5yr6ncro",
        "colab_type": "code",
        "colab": {}
      },
      "source": [
        "#FontProperties and plt.rc\n",
        "path='/usr/share/fonts/truetype/nanum/NanumBarunGothic.ttf'\n",
        "font_name=fm.FontProperties(fname=path,size=50).get_name()\n",
        "print(font_name)\n",
        "plt.rc('font',family=font_name)\n",
        "\n",
        "fig,ax=plt.subplots()\n",
        "ax.plot(data)\n",
        "ax.set_title('시간별 가격 추이')\n",
        "plt.ylabel('주식 가격')\n",
        "plt.xlabel('시간(분)')\n",
        "plt.style.use('ggplot')\n",
        "plt.show"
      ],
      "execution_count": null,
      "outputs": []
    },
    {
      "cell_type": "code",
      "metadata": {
        "id": "9iazk8rIomIO",
        "colab_type": "code",
        "colab": {}
      },
      "source": [
        "print('설정파일 위치:',mpl.matplotlib_fname())"
      ],
      "execution_count": null,
      "outputs": []
    },
    {
      "cell_type": "code",
      "metadata": {
        "id": "S6fCN8Eco8ff",
        "colab_type": "code",
        "colab": {}
      },
      "source": [
        "fig, ax = plt.subplots()\n",
        "mpl.rcParams['axes.unicode_minus'] = False\n",
        "ax.plot(10*np.random.randn(100),10*np.random.randn(100),'ㅇ')\n",
        "ax.set_title('숫자 분포도 보기')\n",
        "plt.show()"
      ],
      "execution_count": null,
      "outputs": []
    },
    {
      "cell_type": "markdown",
      "metadata": {
        "id": "seYnAiUXNTxQ",
        "colab_type": "text"
      },
      "source": [
        "1.2 MAC OSX에서 파이썬 한국어 자연어 처리 도구인 KoNLPY 설치하기\n",
        "\n",
        "\n",
        "\n"
      ]
    },
    {
      "cell_type": "markdown",
      "metadata": {
        "id": "cVm_1e2yNmsZ",
        "colab_type": "text"
      },
      "source": [
        "이 과정은 제가 윈도우인 관계로 작성을 건너뛰었습니다."
      ]
    },
    {
      "cell_type": "markdown",
      "metadata": {
        "id": "p_AHg-xbNoe7",
        "colab_type": "text"
      },
      "source": [
        "1.3 캐글 공식 API로 검색,다운로드,경진대회 참여 및 기록 보기"
      ]
    },
    {
      "cell_type": "code",
      "metadata": {
        "id": "uW3Ng2jeNn-p",
        "colab_type": "code",
        "colab": {}
      },
      "source": [
        "#경진대회 API의 도움말\n",
        "!kaggle competitions list -h"
      ],
      "execution_count": null,
      "outputs": []
    },
    {
      "cell_type": "code",
      "metadata": {
        "id": "Rzn-0Mw2jcNB",
        "colab_type": "code",
        "colab": {}
      },
      "source": [
        "#경진대회 찾아보기(health)\n",
        "!kaggle competitions list -s health"
      ],
      "execution_count": null,
      "outputs": []
    },
    {
      "cell_type": "code",
      "metadata": {
        "id": "m1cLk14ZjeoB",
        "colab_type": "code",
        "colab": {}
      },
      "source": [
        "#경진대회 찾아보기(nlp)\n",
        "!kaggle competitions list -s nlp"
      ],
      "execution_count": null,
      "outputs": []
    },
    {
      "cell_type": "code",
      "metadata": {
        "id": "Ck7G4-Kdjf68",
        "colab_type": "code",
        "colab": {}
      },
      "source": [
        "#경진대회 찾아보기(tutorial)\n",
        "!kaggle competitions list -s tutorial"
      ],
      "execution_count": null,
      "outputs": []
    },
    {
      "cell_type": "code",
      "metadata": {
        "id": "cTkkILjSjhnX",
        "colab_type": "code",
        "colab": {}
      },
      "source": [
        "#데이터셋 보기(titanic)\n",
        "!kaggle competitions files -c titanic"
      ],
      "execution_count": null,
      "outputs": []
    },
    {
      "cell_type": "code",
      "metadata": {
        "id": "gaK55HfVjjlV",
        "colab_type": "code",
        "colab": {}
      },
      "source": [
        "#데이터셋 보기(word2vec-nlp-tutorial)\n",
        "!kaggle competitions files -c word2vec-nlp-tutorial"
      ],
      "execution_count": null,
      "outputs": []
    },
    {
      "cell_type": "code",
      "metadata": {
        "id": "E3wyXp1_jlfl",
        "colab_type": "code",
        "colab": {}
      },
      "source": [
        "#경진대회 파일 다운로드(titanic)\n",
        "!kaggle competitions download -c titanic"
      ],
      "execution_count": null,
      "outputs": []
    },
    {
      "cell_type": "code",
      "metadata": {
        "id": "xzaHajwWlbgw",
        "colab_type": "code",
        "colab": {}
      },
      "source": [
        "#window 다운로드 경로\n",
        "C:\\Users\\<Windows-username>\\.kaggle"
      ],
      "execution_count": null,
      "outputs": []
    },
    {
      "cell_type": "code",
      "metadata": {
        "id": "lXMaIgXDjoRT",
        "colab_type": "code",
        "colab": {}
      },
      "source": [
        "#window 다운로드 확인\n",
        "%dir ~/.kaggle/competitions/titanic/"
      ],
      "execution_count": null,
      "outputs": []
    },
    {
      "cell_type": "code",
      "metadata": {
        "id": "Rqn26yx1jpkp",
        "colab_type": "code",
        "colab": {}
      },
      "source": [
        "#다운받을 경로 지정\n",
        "!kaggle competitions download -c titanic -p ./"
      ],
      "execution_count": null,
      "outputs": []
    },
    {
      "cell_type": "code",
      "metadata": {
        "id": "Cpfgyt3wjrFp",
        "colab_type": "code",
        "colab": {}
      },
      "source": [
        "#다운로드 경로 찾기\n",
        "%dir ./titanic"
      ],
      "execution_count": null,
      "outputs": []
    },
    {
      "cell_type": "code",
      "metadata": {
        "id": "GWBVr61ZjtKS",
        "colab_type": "code",
        "colab": {}
      },
      "source": [
        "#확인\n",
        "!kaggle competitions files -c titanic"
      ],
      "execution_count": null,
      "outputs": []
    },
    {
      "cell_type": "code",
      "metadata": {
        "id": "6Vqy-p0TjvNt",
        "colab_type": "code",
        "colab": {}
      },
      "source": [
        "#경진대회 약관에 동의했다면 API로 서브미션 가능\n",
        "!kaggle competitions submit -c word2vec-nlp-tutorial -f ./word2vec-nlp-tutorial/data/tutorial_4_tfidf_xgboost.csv -m 'API submit msg'"
      ],
      "execution_count": null,
      "outputs": []
    },
    {
      "cell_type": "code",
      "metadata": {
        "id": "8rc7Evt9jwoL",
        "colab_type": "code",
        "colab": {}
      },
      "source": [
        "!kaggle competitions submissions -c word2vec-nlp-tutorial"
      ],
      "execution_count": null,
      "outputs": []
    },
    {
      "cell_type": "code",
      "metadata": {
        "id": "nR6QyD2tjyiG",
        "colab_type": "code",
        "colab": {}
      },
      "source": [
        "#데이터 셋 찾아보기(survey)\n",
        "!kaggle datasets list -s survey"
      ],
      "execution_count": null,
      "outputs": []
    },
    {
      "cell_type": "code",
      "metadata": {
        "id": "odBhf6vgj0A5",
        "colab_type": "code",
        "colab": {}
      },
      "source": [
        "!kaggle datasets files -d stackoverflow/so-survey-2017"
      ],
      "execution_count": null,
      "outputs": []
    },
    {
      "cell_type": "code",
      "metadata": {
        "id": "hVBBtjFRj1KH",
        "colab_type": "code",
        "colab": {}
      },
      "source": [
        "!kaggle datasets files -d zillow/zecon"
      ],
      "execution_count": null,
      "outputs": []
    }
  ]
}