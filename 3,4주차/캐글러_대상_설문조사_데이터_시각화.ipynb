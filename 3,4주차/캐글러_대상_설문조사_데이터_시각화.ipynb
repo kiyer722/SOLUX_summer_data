{
  "nbformat": 4,
  "nbformat_minor": 0,
  "metadata": {
    "colab": {
      "name": "캐글러 대상 설문조사 데이터 시각화",
      "provenance": [],
      "authorship_tag": "ABX9TyMnhmxjNeqWCCIDP5hm/pHN",
      "include_colab_link": true
    },
    "kernelspec": {
      "name": "python3",
      "display_name": "Python 3"
    }
  },
  "cells": [
    {
      "cell_type": "markdown",
      "metadata": {
        "id": "view-in-github",
        "colab_type": "text"
      },
      "source": [
        "<a href=\"https://colab.research.google.com/github/kiyer722/SOLUX_summer_data/blob/master/3%2C4%EC%A3%BC%EC%B0%A8/%EC%BA%90%EA%B8%80%EB%9F%AC_%EB%8C%80%EC%83%81_%EC%84%A4%EB%AC%B8%EC%A1%B0%EC%82%AC_%EB%8D%B0%EC%9D%B4%ED%84%B0_%EC%8B%9C%EA%B0%81%ED%99%94.ipynb\" target=\"_parent\"><img src=\"https://colab.research.google.com/assets/colab-badge.svg\" alt=\"Open In Colab\"/></a>"
      ]
    },
    {
      "cell_type": "markdown",
      "metadata": {
        "id": "hpHST8TCnfVC",
        "colab_type": "text"
      },
      "source": [
        "# 데이터 파일\n",
        "\n",
        "5 개의 데이터 파일을 제공\n",
        "\n",
        "schema.csv : 설문 스키마가있는 CSV 파일입니다. 이 스키마에는 multipleChoiceResponses.csv 및 freeformResponses.csv의 각 열 이름에 해당하는 질문이 포함되어 있습니다.\n",
        "\n",
        "multipleChoiceResponses.csv : 객관식 및 순위 질문에 대한 응답자의 답변, 각 행이 한 응답자의 응답\n",
        "\n",
        "freeformResponses.csv : Kaggle의 설문 조사 질문에 대한 응답자의 주관식 답변입니다. 임의로 지정되어 각 행이 같은 응답자를 나타내지 않음\n",
        "\n",
        "conversionRates.csv : R 패키지 \"quantmod\"에서 2017 년 9 월 14 일에 액세스 한 통화 변환율 (USD)\n",
        "\n",
        "RespondentTypeREADME.txt : schema.csv 파일의 \"Asked\"열에 응답을 디코딩하는 스키마입니다."
      ]
    },
    {
      "cell_type": "code",
      "metadata": {
        "id": "Im-uSkaCnd17",
        "colab_type": "code",
        "colab": {}
      },
      "source": [
        "# 노트북 안에서 그래프를 그리기 위해\n",
        "%matplotlib inline\n",
        "\n",
        "# 판다스,넘파이,사이파이,시본 import\n",
        "import pandas as pd\n",
        "import numpy as np\n",
        "from scipy import stats\n",
        "import matplotlib.pyplot as plt\n",
        "import seaborn as sns\n",
        "\n",
        "\n",
        "import warnings\n",
        "warnings.filterwarnings('ignore')"
      ],
      "execution_count": null,
      "outputs": []
    },
    {
      "cell_type": "code",
      "metadata": {
        "id": "8Ls0aQU5nzWK",
        "colab_type": "code",
        "colab": {}
      },
      "source": [
        "#몇행몇열인지\n",
        "question = pd.read_csv('data/schema.csv')\n",
        "question.shape"
      ],
      "execution_count": null,
      "outputs": []
    },
    {
      "cell_type": "code",
      "metadata": {
        "id": "HpunTR2cn0aO",
        "colab_type": "code",
        "colab": {}
      },
      "source": [
        "#상위5개(tail은 하위5개)\n",
        "question.head()"
      ],
      "execution_count": null,
      "outputs": []
    },
    {
      "cell_type": "code",
      "metadata": {
        "id": "11F16p7Zn1kx",
        "colab_type": "code",
        "colab": {}
      },
      "source": [
        "mcq = pd.read_csv('data/multipleChoiceResponses.csv', \n",
        "                  encoding=\"ISO-8859-1\", low_memory=False)\n",
        "mcq.shape"
      ],
      "execution_count": null,
      "outputs": []
    },
    {
      "cell_type": "code",
      "metadata": {
        "id": "pUZ7UgVYn3T5",
        "colab_type": "code",
        "colab": {}
      },
      "source": [
        "mcq.columns"
      ],
      "execution_count": null,
      "outputs": []
    },
    {
      "cell_type": "code",
      "metadata": {
        "id": "QOX-99C0n4_3",
        "colab_type": "code",
        "colab": {}
      },
      "source": [
        "mcq.head(10)"
      ],
      "execution_count": null,
      "outputs": []
    },
    {
      "cell_type": "code",
      "metadata": {
        "id": "GEvxkO-kn7Nu",
        "colab_type": "code",
        "colab": {}
      },
      "source": [
        "# missingno는 NaN 데이터들에 대해 시각화를 해준다.\n",
        "# NaN 데이터의 컬럼이 많아 아래 그래프만으로는 내용을 파악하기 어렵다.\n",
        "import missingno as msno\n",
        "\n",
        "msno.matrix(mcq, figsize=(12,5))"
      ],
      "execution_count": null,
      "outputs": []
    },
    {
      "cell_type": "markdown",
      "metadata": {
        "id": "E8IXV0nwn93p",
        "colab_type": "text"
      },
      "source": [
        "# 설문통계"
      ]
    },
    {
      "cell_type": "code",
      "metadata": {
        "id": "PDvVUhBin_w7",
        "colab_type": "code",
        "colab": {}
      },
      "source": [
        "# 성별\n",
        "sns.countplot(y='GenderSelect', data=mcq)"
      ],
      "execution_count": null,
      "outputs": []
    },
    {
      "cell_type": "code",
      "metadata": {
        "id": "-NOo3kMHoCmm",
        "colab_type": "code",
        "colab": {}
      },
      "source": [
        "# 국가별 응답수\n",
        "con_df = pd.DataFrame(mcq['Country'].value_counts())\n",
        "# print(con_df)\n",
        "# 'country' 컬럼을 인덱스로 지정해 주고\n",
        "con_df['국가'] = con_df.index\n",
        "# 컬럼의 순서대로 응답 수, 국가로 컬럼명을 지정해 줌\n",
        "con_df.columns = ['응답 수', '국가']\n",
        "# index 컬럼을 삭제하고 순위를 알기위해 reset_index()를 해준다.\n",
        "# 우리 나라는 18위이고 전체 52개국에서 참여했지만 20위까지만 본다. \n",
        "con_df = con_df.reset_index().drop('index', axis=1)\n",
        "con_df.head(20)"
      ],
      "execution_count": null,
      "outputs": []
    },
    {
      "cell_type": "code",
      "metadata": {
        "id": "lVDcTPNnoD1G",
        "colab_type": "code",
        "colab": {}
      },
      "source": [
        "# 연령에 대한 정보를 본다.\n",
        "mcq['Age'].describe()"
      ],
      "execution_count": null,
      "outputs": []
    },
    {
      "cell_type": "code",
      "metadata": {
        "id": "kZOMux2HoFa_",
        "colab_type": "code",
        "colab": {}
      },
      "source": [
        "sns.distplot(mcq[mcq['Age'] > 0]['Age'])"
      ],
      "execution_count": null,
      "outputs": []
    },
    {
      "cell_type": "markdown",
      "metadata": {
        "id": "39nlnmgroHAW",
        "colab_type": "text"
      },
      "source": [
        "#학력"
      ]
    },
    {
      "cell_type": "code",
      "metadata": {
        "id": "Jz3U_QgHoI8e",
        "colab_type": "code",
        "colab": {}
      },
      "source": [
        "sns.countplot(y='FormalEducation', data=mcq)"
      ],
      "execution_count": null,
      "outputs": []
    },
    {
      "cell_type": "markdown",
      "metadata": {
        "id": "wvmMd4JaoJ8y",
        "colab_type": "text"
      },
      "source": [
        "전공"
      ]
    },
    {
      "cell_type": "code",
      "metadata": {
        "id": "sJSk5AWvoLFd",
        "colab_type": "code",
        "colab": {}
      },
      "source": [
        "# value_counts 를 사용하면 그룹화 된 데이터의 카운트 값을 보여준다. \n",
        "# normalize=True 옵션을 사용하면, \n",
        "# 해당 데이터가 전체 데이터에서 어느정도의 비율을 차지하는지 알 수 있다.\n",
        "mcq_major_count = pd.DataFrame(\n",
        "    mcq['MajorSelect'].value_counts())\n",
        "mcq_major_percent = pd.DataFrame(\n",
        "    mcq['MajorSelect'].value_counts(normalize=True))\n",
        "mcq_major_df = mcq_major_count.merge(\n",
        "    mcq_major_percent, left_index=True, right_index=True)\n",
        "mcq_major_df.columns = ['응답 수', '비율']\n",
        "mcq_major_df"
      ],
      "execution_count": null,
      "outputs": []
    },
    {
      "cell_type": "code",
      "metadata": {
        "id": "nO8jqWm_oPnu",
        "colab_type": "code",
        "colab": {}
      },
      "source": [
        "# 재학중인 사람들의 전공 현황, 시각화\n",
        "plt.figure(figsize=(6,8))\n",
        "sns.countplot(y='MajorSelect', data=mcq)"
      ],
      "execution_count": null,
      "outputs": []
    },
    {
      "cell_type": "markdown",
      "metadata": {
        "id": "zGamrJQ2oRa1",
        "colab_type": "text"
      },
      "source": [
        "#취업여부"
      ]
    },
    {
      "cell_type": "code",
      "metadata": {
        "id": "bkPESGxzoUZ9",
        "colab_type": "code",
        "colab": {}
      },
      "source": [
        "mcq_es_count = pd.DataFrame(\n",
        "    mcq['EmploymentStatus'].value_counts())\n",
        "mcq_es_percent = pd.DataFrame(\n",
        "    mcq['EmploymentStatus'].value_counts(normalize=True))\n",
        "mcq_es_df = mcq_es_count.merge(\n",
        "    mcq_es_percent, left_index=True, right_index=True)\n",
        "mcq_es_df.columns = ['응답 수', '비율']\n",
        "mcq_es_df"
      ],
      "execution_count": null,
      "outputs": []
    },
    {
      "cell_type": "code",
      "metadata": {
        "id": "cHt-5SWPoV6x",
        "colab_type": "code",
        "colab": {}
      },
      "source": [
        "sns.countplot(y='EmploymentStatus', data=mcq)"
      ],
      "execution_count": null,
      "outputs": []
    },
    {
      "cell_type": "markdown",
      "metadata": {
        "id": "tSxeWHt0oXol",
        "colab_type": "text"
      },
      "source": [
        "#프로그래밍 경험"
      ]
    },
    {
      "cell_type": "code",
      "metadata": {
        "id": "0Jjx04FjobEi",
        "colab_type": "code",
        "colab": {}
      },
      "source": [
        "sns.countplot(y='Tenure', data=mcq)"
      ],
      "execution_count": null,
      "outputs": []
    },
    {
      "cell_type": "code",
      "metadata": {
        "id": "jcxu5xAEocW_",
        "colab_type": "code",
        "colab": {}
      },
      "source": [
        "#한국은?\n",
        "korea = mcq.loc[(mcq['Country']=='South Korea')]\n",
        "\n",
        "print('The number of interviewees in Korea: ' + str(korea.shape[0]))\n",
        "\n",
        "sns.distplot(korea['Age'].dropna())\n",
        "plt.title('Korean')\n",
        "plt.show()"
      ],
      "execution_count": null,
      "outputs": []
    },
    {
      "cell_type": "code",
      "metadata": {
        "id": "uJp5armJoeN7",
        "colab_type": "code",
        "colab": {}
      },
      "source": [
        "#성별\n",
        "pd.DataFrame(korea['GenderSelect'].value_counts())"
      ],
      "execution_count": null,
      "outputs": []
    },
    {
      "cell_type": "code",
      "metadata": {
        "id": "tAaZrjsNogCT",
        "colab_type": "code",
        "colab": {}
      },
      "source": [
        "sns.countplot(x='GenderSelect', data=korea)\n",
        "plt.title('Korean')"
      ],
      "execution_count": null,
      "outputs": []
    },
    {
      "cell_type": "code",
      "metadata": {
        "id": "1Fok-6CnohN6",
        "colab_type": "code",
        "colab": {}
      },
      "source": [
        "#subplots2개의 테이블 한번에 그리기\n",
        "figure, (ax1, ax2) = plt.subplots(ncols=2)\n",
        "\n",
        "figure.set_size_inches(12,5)\n",
        "sns.distplot(korea['Age'].loc[korea['GenderSelect']=='Female'].dropna(), \n",
        "             norm_hist=False, color=sns.color_palette(\"Paired\")[4], ax=ax1)\n",
        "plt.title('korean Female')\n",
        "\n",
        "sns.distplot(korea['Age'].loc[korea['GenderSelect']=='Male'].dropna(), \n",
        "             norm_hist=False, color=sns.color_palette(\"Paired\")[0], ax=ax2)\n",
        "plt.title('korean Male')"
      ],
      "execution_count": null,
      "outputs": []
    },
    {
      "cell_type": "code",
      "metadata": {
        "id": "8fGLBiMHoisY",
        "colab_type": "code",
        "colab": {}
      },
      "source": [
        "#하는일?\n",
        "#xticks >>> 기울임\n",
        "sns.barplot(x=korea['EmploymentStatus'].unique(), y=korea['EmploymentStatus'].value_counts()/len(korea))\n",
        "plt.xticks(rotation=30, ha='right')\n",
        "plt.title('Employment status of the korean')\n",
        "plt.ylabel('')\n",
        "plt.show()"
      ],
      "execution_count": null,
      "outputs": []
    },
    {
      "cell_type": "code",
      "metadata": {
        "id": "9J2bq_J4ok0Z",
        "colab_type": "code",
        "colab": {}
      },
      "source": [
        "korea['StudentStatus'] = korea['StudentStatus'].fillna('No')\n",
        "sns.countplot(x='StudentStatus', data=korea)\n",
        "plt.title('korean')\n",
        "plt.show()"
      ],
      "execution_count": null,
      "outputs": []
    },
    {
      "cell_type": "code",
      "metadata": {
        "id": "lUiN27WYom5Q",
        "colab_type": "code",
        "colab": {}
      },
      "source": [
        "full_time = mcq.loc[(mcq['EmploymentStatus'] == 'Employed full-time')]\n",
        "print(full_time.shape)\n",
        "looking_for_job = mcq.loc[(\n",
        "    mcq['EmploymentStatus'] == 'Not employed, but looking for work')]\n",
        "print(looking_for_job.shape)"
      ],
      "execution_count": null,
      "outputs": []
    },
    {
      "cell_type": "markdown",
      "metadata": {
        "id": "15krYJq0ooGQ",
        "colab_type": "text"
      },
      "source": [
        "#자주 묻는 질문 FAQ\n",
        "Q1.Python과 R중 어떤 언어를 배워야 할까요?"
      ]
    },
    {
      "cell_type": "code",
      "metadata": {
        "id": "eCb9VXYJozIw",
        "colab_type": "code",
        "colab": {}
      },
      "source": [
        "sns.countplot(y='LanguageRecommendationSelect', data=mcq)"
      ],
      "execution_count": null,
      "outputs": []
    },
    {
      "cell_type": "code",
      "metadata": {
        "id": "wHSejEtSo08v",
        "colab_type": "code",
        "colab": {}
      },
      "source": [
        "# 현재 하고 있는 일\n",
        "sns.countplot(y=mcq['CurrentJobTitleSelect'])"
      ],
      "execution_count": null,
      "outputs": []
    },
    {
      "cell_type": "code",
      "metadata": {
        "id": "n4tGaHvZo3Jr",
        "colab_type": "code",
        "colab": {}
      },
      "source": [
        "# 현재 하고 있는 일에 대한 전체 응답수\n",
        "mcq[mcq['CurrentJobTitleSelect'].notnull()]['CurrentJobTitleSelect'].shape"
      ],
      "execution_count": null,
      "outputs": []
    },
    {
      "cell_type": "code",
      "metadata": {
        "id": "ab52Y3lao5VB",
        "colab_type": "code",
        "colab": {}
      },
      "source": [
        "# 현재 하고 있는 일에 대한 응답을 해준 사람 중 Python과 R을 사용하는 사람\n",
        "# 응답자들이 실제 업무에서 어떤 언어를 주로 사용하는지 볼 수 있다.\n",
        "data = mcq[(mcq['CurrentJobTitleSelect'].notnull()) & (\n",
        "    (mcq['LanguageRecommendationSelect'] == 'Python') | (\n",
        "        mcq['LanguageRecommendationSelect'] == 'R'))]\n",
        "print(data.shape)\n",
        "plt.figure(figsize=(8, 10))\n",
        "sns.countplot(y='CurrentJobTitleSelect', \n",
        "              hue='LanguageRecommendationSelect', \n",
        "              data=data)"
      ],
      "execution_count": null,
      "outputs": []
    },
    {
      "cell_type": "markdown",
      "metadata": {
        "id": "u4ODaP5wo8Df",
        "colab_type": "text"
      },
      "source": [
        "Q2. 데이터 사이언스 분야에서 앞으로 크게 주목받을 것은 무엇인가요?"
      ]
    },
    {
      "cell_type": "code",
      "metadata": {
        "id": "vDgz5LmNpBox",
        "colab_type": "code",
        "colab": {}
      },
      "source": [
        "#데이터 사이언스 툴\n",
        "#value_counts(normalize=True) 응답자들의 비율보기\n",
        "mcq_ml_tool_count = pd.DataFrame(\n",
        "    mcq['MLToolNextYearSelect'].value_counts())\n",
        "mcq_ml_tool_percent = pd.DataFrame(\n",
        "    mcq['MLToolNextYearSelect'].value_counts(normalize=True))\n",
        "\n",
        "mcq_ml_tool_df = mcq_ml_tool_count.merge(\n",
        "    mcq_ml_tool_percent, left_index=True, right_index=True).head(20)\n",
        "mcq_ml_tool_df.columns = ['응답 수', '비율']\n",
        "mcq_ml_tool_df"
      ],
      "execution_count": null,
      "outputs": []
    },
    {
      "cell_type": "code",
      "metadata": {
        "id": "bmHKtp9LpDjV",
        "colab_type": "code",
        "colab": {}
      },
      "source": [
        "data = mcq['MLToolNextYearSelect'].value_counts().head(20)\n",
        "sns.barplot(y=data.index, x=data)"
      ],
      "execution_count": null,
      "outputs": []
    },
    {
      "cell_type": "markdown",
      "metadata": {
        "id": "xxal5AzEpGtl",
        "colab_type": "text"
      },
      "source": [
        "다음 해에 주목할 만한 Data Science Methods"
      ]
    },
    {
      "cell_type": "code",
      "metadata": {
        "id": "Scw-m4LDpI2h",
        "colab_type": "code",
        "colab": {}
      },
      "source": [
        "data = mcq['MLMethodNextYearSelect'].value_counts().head(15)\n",
        "sns.barplot(y=data.index, x=data)"
      ],
      "execution_count": null,
      "outputs": []
    },
    {
      "cell_type": "markdown",
      "metadata": {
        "id": "r9_bzOOspODD",
        "colab_type": "text"
      },
      "source": [
        "Q3. 어디에서 데이터 사이언스를 배워야 할까요?"
      ]
    },
    {
      "cell_type": "code",
      "metadata": {
        "id": "3OIRsGwkpPOj",
        "colab_type": "code",
        "colab": {}
      },
      "source": [
        "mcq['LearningPlatformSelect'] = mcq['LearningPlatformSelect'].astype('str').apply(lambda x: x.split(','))\n",
        "s = mcq.apply(\n",
        "    lambda x: pd.Series(x['LearningPlatformSelect']),\n",
        "    axis=1).stack().reset_index(level=1, drop=True)\n",
        "s.name = 'platform'"
      ],
      "execution_count": null,
      "outputs": []
    },
    {
      "cell_type": "code",
      "metadata": {
        "id": "uG7iV1-qpRER",
        "colab_type": "code",
        "colab": {}
      },
      "source": [
        "plt.figure(figsize=(6,8))\n",
        "data = s[s != 'nan'].value_counts().head(15)\n",
        "sns.barplot(y=data.index, x=data)"
      ],
      "execution_count": null,
      "outputs": []
    },
    {
      "cell_type": "code",
      "metadata": {
        "id": "Va8L9x54pZK0",
        "colab_type": "code",
        "colab": {}
      },
      "source": [
        "# 설문내용과 누구에게 물어봤는지를 찾아봄\n",
        "qc = question.loc[question[\n",
        "    'Column'].str.contains('LearningCategory')]\n",
        "print(qc.shape)\n",
        "qc"
      ],
      "execution_count": null,
      "outputs": []
    },
    {
      "cell_type": "code",
      "metadata": {
        "id": "xBWrEliQpbBe",
        "colab_type": "code",
        "colab": {}
      },
      "source": [
        "use_features = [x for x in mcq.columns if x.find(\n",
        "    'LearningPlatformUsefulness') != -1]"
      ],
      "execution_count": null,
      "outputs": []
    },
    {
      "cell_type": "code",
      "metadata": {
        "id": "9JWvi7ACpcWl",
        "colab_type": "code",
        "colab": {}
      },
      "source": [
        "# 학습플랫폼과 유용함에 대한 연관성을 살펴본다.\n",
        "fdf = {}\n",
        "for feature in use_features:\n",
        "    a = mcq[feature].value_counts()\n",
        "    a = a/a.sum()\n",
        "    fdf[feature[len('LearningPlatformUsefulness'):]] = a\n",
        "\n",
        "fdf = pd.DataFrame(fdf).transpose().sort_values(\n",
        "    'Very useful', ascending=False)\n",
        "\n",
        "# 학습플랫폼들이 얼마나 유용한지에 대한 상관관계를 그려본다.\n",
        "plt.figure(figsize=(10,10))\n",
        "sns.heatmap(\n",
        "    fdf.sort_values(\n",
        "        \"Very useful\", ascending=False), annot=True)"
      ],
      "execution_count": null,
      "outputs": []
    },
    {
      "cell_type": "code",
      "metadata": {
        "id": "YmGKE6dwpepZ",
        "colab_type": "code",
        "colab": {}
      },
      "source": [
        "# 유용함의 정도를 각 플랫폼별로 그룹화 해서 본다.\n",
        "fdf.plot(kind='bar', figsize=(20,8),\n",
        "         title=\"Usefullness of Learning Platforms\")\n",
        "plt.xticks(rotation=60, ha='right')"
      ],
      "execution_count": null,
      "outputs": []
    },
    {
      "cell_type": "code",
      "metadata": {
        "id": "ERamtOiBpgOn",
        "colab_type": "code",
        "colab": {}
      },
      "source": [
        "cat_features = [x for x in mcq.columns if x.find(\n",
        "    'LearningCategory') != -1]\n",
        "cat_features"
      ],
      "execution_count": null,
      "outputs": []
    },
    {
      "cell_type": "code",
      "metadata": {
        "id": "9Xejifatpint",
        "colab_type": "code",
        "colab": {}
      },
      "source": [
        "cdf = {}\n",
        "for feature in cat_features:\n",
        "    cdf[feature[len('LearningCategory'):]] = mcq[feature].mean()\n",
        "\n",
        "# 파이차트를 그리기 위해 평균 값을 구해와서 담아준다.\n",
        "cdf = pd.Series(cdf)\n",
        "cdf"
      ],
      "execution_count": null,
      "outputs": []
    },
    {
      "cell_type": "code",
      "metadata": {
        "id": "klMzNuw3plW5",
        "colab_type": "code",
        "colab": {}
      },
      "source": [
        "# 학습 플랫폼 별 도움이 되는 정도를 그려본다.\n",
        "plt.pie(cdf, labels=cdf.index, \n",
        "        autopct='%1.1f%%', shadow=True, startangle=140)\n",
        "plt.axis('equal')\n",
        "plt.title(\"Contribution of each Platform to Learning\")\n",
        "plt.show()"
      ],
      "execution_count": null,
      "outputs": []
    },
    {
      "cell_type": "markdown",
      "metadata": {
        "id": "AzfcWr3mpmp8",
        "colab_type": "text"
      },
      "source": [
        "\n",
        "Q4. 데이터과학을 위해 높은 사양의 컴퓨터가 필요한가요?"
      ]
    },
    {
      "cell_type": "code",
      "metadata": {
        "id": "Hhwt9vGspr0E",
        "colab_type": "code",
        "colab": {}
      },
      "source": [
        "# 설문내용과 누구에게 물어봤는지를 찾아봄\n",
        "qc = question.loc[question[\n",
        "    'Column'].str.contains('HardwarePersonalProjectsSelect')]\n",
        "print(qc.shape)\n",
        "qc"
      ],
      "execution_count": null,
      "outputs": []
    },
    {
      "cell_type": "code",
      "metadata": {
        "id": "X6Li6lNgptVT",
        "colab_type": "code",
        "colab": {}
      },
      "source": [
        "mcq[mcq['HardwarePersonalProjectsSelect'].notnull()][\n",
        "    'HardwarePersonalProjectsSelect'].shape"
      ],
      "execution_count": null,
      "outputs": []
    },
    {
      "cell_type": "code",
      "metadata": {
        "id": "5QPv4JDJpvTY",
        "colab_type": "code",
        "colab": {}
      },
      "source": [
        "mcq['HardwarePersonalProjectsSelect'\n",
        "   ] = mcq['HardwarePersonalProjectsSelect'\n",
        "          ].astype('str').apply(lambda x: x.split(','))\n",
        "s = mcq.apply(lambda x: \n",
        "              pd.Series(x['HardwarePersonalProjectsSelect']),\n",
        "              axis=1).stack().reset_index(level=1, drop=True)\n",
        "s.name = 'hardware'"
      ],
      "execution_count": null,
      "outputs": []
    },
    {
      "cell_type": "code",
      "metadata": {
        "id": "NTKqD_T7pwaL",
        "colab_type": "code",
        "colab": {}
      },
      "source": [
        "s = s[s != 'nan']"
      ],
      "execution_count": null,
      "outputs": []
    },
    {
      "cell_type": "code",
      "metadata": {
        "id": "bdXKY5uSpyMB",
        "colab_type": "code",
        "colab": {}
      },
      "source": [
        "pd.DataFrame(s.value_counts())"
      ],
      "execution_count": null,
      "outputs": []
    },
    {
      "cell_type": "markdown",
      "metadata": {
        "id": "bQjNuGAPp1fW",
        "colab_type": "text"
      },
      "source": [
        "Q5. 데이터 사이언스 공부에 얼마나 많은 시간을 사용 하는지?"
      ]
    },
    {
      "cell_type": "code",
      "metadata": {
        "id": "nkLWNBnGp27D",
        "colab_type": "code",
        "colab": {}
      },
      "source": [
        "#재직중인지 아닌지 고려함\n",
        "plt.figure(figsize=(6, 8))\n",
        "sns.countplot(y='TimeSpentStudying', \n",
        "              data=mcq, \n",
        "              hue='EmploymentStatus'\n",
        "             ).legend(loc='center left',\n",
        "                      bbox_to_anchor=(1, 0.5))"
      ],
      "execution_count": null,
      "outputs": []
    },
    {
      "cell_type": "code",
      "metadata": {
        "id": "8oaIZOJTp4gR",
        "colab_type": "code",
        "colab": {}
      },
      "source": [
        "figure, (ax1, ax2) = plt.subplots(ncols=2)\n",
        "\n",
        "figure.set_size_inches(12,5)\n",
        "sns.countplot(x='TimeSpentStudying', \n",
        "              data=full_time, \n",
        "              hue='EmploymentStatus', ax=ax1\n",
        "             ).legend(loc='center right',\n",
        "                      bbox_to_anchor=(1, 0.5))\n",
        "\n",
        "sns.countplot(x='TimeSpentStudying', \n",
        "              data=looking_for_job, \n",
        "              hue='EmploymentStatus', ax=ax2\n",
        "             ).legend(loc='center right',\n",
        "                      bbox_to_anchor=(1, 0.5))"
      ],
      "execution_count": null,
      "outputs": []
    },
    {
      "cell_type": "markdown",
      "metadata": {
        "id": "Uk5IUiC_p7p8",
        "colab_type": "text"
      },
      "source": [
        "Q6. 블로그, 팟캐스트, 수업, 기타 등등 추천할만한 것이 있는지?"
      ]
    },
    {
      "cell_type": "code",
      "metadata": {
        "id": "FRFszbbwp9WZ",
        "colab_type": "code",
        "colab": {}
      },
      "source": [
        "mcq['BlogsPodcastsNewslettersSelect'] = mcq[\n",
        "    'BlogsPodcastsNewslettersSelect'\n",
        "].astype('str').apply(lambda x: x.split(','))\n",
        "mcq['BlogsPodcastsNewslettersSelect'].head()"
      ],
      "execution_count": null,
      "outputs": []
    },
    {
      "cell_type": "code",
      "metadata": {
        "id": "_mWo188jp-3D",
        "colab_type": "code",
        "colab": {}
      },
      "source": [
        "s = mcq.apply(lambda x: pd.Series(x['BlogsPodcastsNewslettersSelect']),\n",
        "              axis=1).stack().reset_index(level=1, drop=True)\n",
        "s.name = 'platforms'\n",
        "s.head()"
      ],
      "execution_count": null,
      "outputs": []
    },
    {
      "cell_type": "code",
      "metadata": {
        "id": "CTJjeltZqAH5",
        "colab_type": "code",
        "colab": {}
      },
      "source": [
        "s = s[s != 'nan'].value_counts().head(20)"
      ],
      "execution_count": null,
      "outputs": []
    },
    {
      "cell_type": "code",
      "metadata": {
        "id": "5acrzna7qBju",
        "colab_type": "code",
        "colab": {}
      },
      "source": [
        "plt.figure(figsize=(6,8))\n",
        "plt.title(\"Most Popular Blogs and Podcasts\")\n",
        "sns.barplot(y=s.index, x=s)"
      ],
      "execution_count": null,
      "outputs": []
    },
    {
      "cell_type": "code",
      "metadata": {
        "id": "NPSDriXIqE0O",
        "colab_type": "code",
        "colab": {}
      },
      "source": [
        "mcq['CoursePlatformSelect'] = mcq[\n",
        "    'CoursePlatformSelect'].astype(\n",
        "    'str').apply(lambda x: x.split(','))\n",
        "mcq['CoursePlatformSelect'].head()"
      ],
      "execution_count": null,
      "outputs": []
    },
    {
      "cell_type": "code",
      "metadata": {
        "id": "KXjn6dDWqF2P",
        "colab_type": "code",
        "colab": {}
      },
      "source": [
        "t = mcq.apply(lambda x: pd.Series(x['CoursePlatformSelect']),\n",
        "              axis=1).stack().reset_index(level=1, drop=True)\n",
        "t.name = 'courses'\n",
        "t.head(20)"
      ],
      "execution_count": null,
      "outputs": []
    },
    {
      "cell_type": "code",
      "metadata": {
        "id": "kyxYyvFzqHRs",
        "colab_type": "code",
        "colab": {}
      },
      "source": [
        "t = t[t != 'nan'].value_counts()"
      ],
      "execution_count": null,
      "outputs": []
    },
    {
      "cell_type": "code",
      "metadata": {
        "id": "UUZCAfL5qI8M",
        "colab_type": "code",
        "colab": {}
      },
      "source": [
        "#강좌 사이트\n",
        "plt.title(\"Most Popular Course Platforms\")\n",
        "sns.barplot(y=t.index, x=t)"
      ],
      "execution_count": null,
      "outputs": []
    },
    {
      "cell_type": "markdown",
      "metadata": {
        "id": "GfsrbPn8qLOH",
        "colab_type": "text"
      },
      "source": [
        "Q7. 데이터 사이언스 직무에서 가장 중요하다고 생각되는 스킬은?"
      ]
    },
    {
      "cell_type": "code",
      "metadata": {
        "id": "Di45iXN9qNKC",
        "colab_type": "code",
        "colab": {}
      },
      "source": [
        "job_features = [\n",
        "    x for x in mcq.columns if x.find(\n",
        "        'JobSkillImportance') != -1 \n",
        "    and x.find('JobSkillImportanceOther') == -1]\n",
        "\n",
        "job_features"
      ],
      "execution_count": null,
      "outputs": []
    },
    {
      "cell_type": "code",
      "metadata": {
        "id": "vG2yMiBlqOht",
        "colab_type": "code",
        "colab": {}
      },
      "source": [
        "jdf = {}\n",
        "for feature in job_features:\n",
        "    a = mcq[feature].value_counts()\n",
        "    a = a/a.sum()\n",
        "    jdf[feature[len('JobSkillImportance'):]] = a\n",
        "\n",
        "jdf"
      ],
      "execution_count": null,
      "outputs": []
    },
    {
      "cell_type": "code",
      "metadata": {
        "id": "LiXm-YLnqQxA",
        "colab_type": "code",
        "colab": {}
      },
      "source": [
        "jdf = pd.DataFrame(jdf).transpose()\n",
        "jdf"
      ],
      "execution_count": null,
      "outputs": []
    },
    {
      "cell_type": "code",
      "metadata": {
        "id": "8sbmsoMEqUOL",
        "colab_type": "code",
        "colab": {}
      },
      "source": [
        "plt.figure(figsize=(10,6))\n",
        "sns.heatmap(jdf.sort_values(\"Necessary\", \n",
        "                            ascending=False), annot=True)"
      ],
      "execution_count": null,
      "outputs": []
    },
    {
      "cell_type": "code",
      "metadata": {
        "id": "EL_ewO9MqVob",
        "colab_type": "code",
        "colab": {}
      },
      "source": [
        "jdf.plot(kind='bar', figsize=(12,6), \n",
        "         title=\"Skill Importance in Data Science Jobs\")\n",
        "plt.xticks(rotation=60, ha='right')"
      ],
      "execution_count": null,
      "outputs": []
    },
    {
      "cell_type": "markdown",
      "metadata": {
        "id": "qRqQ3f1pqY6E",
        "colab_type": "text"
      },
      "source": [
        "Q8. 데이터 과학자의 평균 급여는 얼마나 될까?"
      ]
    },
    {
      "cell_type": "code",
      "metadata": {
        "id": "5wOKscwfqae4",
        "colab_type": "code",
        "colab": {}
      },
      "source": [
        "mcq[mcq['CompensationAmount'].notnull()].shape"
      ],
      "execution_count": null,
      "outputs": []
    },
    {
      "cell_type": "code",
      "metadata": {
        "id": "MWh8k8QDqb4J",
        "colab_type": "code",
        "colab": {}
      },
      "source": [
        "mcq['CompensationAmount'] = mcq[\n",
        "    'CompensationAmount'].str.replace(',','')\n",
        "mcq['CompensationAmount'] = mcq[\n",
        "    'CompensationAmount'].str.replace('-','')\n",
        "\n",
        "# 환율계산을 위한 정보 가져오기\n",
        "rates = pd.read_csv('data/conversionRates.csv')\n",
        "rates.drop('Unnamed: 0',axis=1,inplace=True)\n",
        "\n",
        "salary = mcq[\n",
        "    ['CompensationAmount','CompensationCurrency',\n",
        "     'GenderSelect',\n",
        "     'Country',\n",
        "     'CurrentJobTitleSelect']].dropna()\n",
        "salary = salary.merge(rates,left_on='CompensationCurrency',\n",
        "                      right_on='originCountry', how='left')\n",
        "salary['Salary'] = pd.to_numeric(\n",
        "    salary['CompensationAmount']) * salary['exchangeRate']\n",
        "salary.head()"
      ],
      "execution_count": null,
      "outputs": []
    },
    {
      "cell_type": "code",
      "metadata": {
        "id": "TBffRNFJqdp7",
        "colab_type": "code",
        "colab": {}
      },
      "source": [
        "print('Maximum Salary is USD $',\n",
        "      salary['Salary'].dropna().astype(int).max())\n",
        "print('Minimum Salary is USD $',\n",
        "      salary['Salary'].dropna().astype(int).min())\n",
        "print('Median Salary is USD $',\n",
        "      salary['Salary'].dropna().astype(int).median())"
      ],
      "execution_count": null,
      "outputs": []
    },
    {
      "cell_type": "code",
      "metadata": {
        "id": "6Q-ujXtDqfbV",
        "colab_type": "code",
        "colab": {}
      },
      "source": [
        "plt.subplots(figsize=(15,8))\n",
        "salary=salary[salary['Salary']<500000]\n",
        "sns.distplot(salary['Salary'])\n",
        "plt.axvline(salary['Salary'].median(), linestyle='dashed')\n",
        "plt.title('Salary Distribution',size=15)"
      ],
      "execution_count": null,
      "outputs": []
    },
    {
      "cell_type": "code",
      "metadata": {
        "id": "uJKodtJ9qilt",
        "colab_type": "code",
        "colab": {}
      },
      "source": [
        "plt.subplots(figsize=(8,12))\n",
        "\n",
        "sal_coun = salary.groupby(\n",
        "    'Country')['Salary'].median().sort_values(\n",
        "    ascending=False)[:30].to_frame()\n",
        "\n",
        "sns.barplot('Salary', \n",
        "            sal_coun.index,\n",
        "            data = sal_coun,\n",
        "            palette='RdYlGn')\n",
        "\n",
        "plt.axvline(salary['Salary'].median(), linestyle='dashed')\n",
        "plt.title('Highest Salary Paying Countries')"
      ],
      "execution_count": null,
      "outputs": []
    },
    {
      "cell_type": "code",
      "metadata": {
        "id": "uq2O3MpMqkUd",
        "colab_type": "code",
        "colab": {}
      },
      "source": [
        "plt.subplots(figsize=(8,4))\n",
        "sns.boxplot(y='GenderSelect',x='Salary', data=salary)"
      ],
      "execution_count": null,
      "outputs": []
    },
    {
      "cell_type": "code",
      "metadata": {
        "id": "RNucM1o-qnBn",
        "colab_type": "code",
        "colab": {}
      },
      "source": [
        "#한국의 임금격차\n",
        "salary_korea = salary.loc[(salary['Country']=='South Korea')]\n",
        "plt.subplots(figsize=(8,4))\n",
        "sns.boxplot(y='GenderSelect',x='Salary',data=salary_korea)"
      ],
      "execution_count": null,
      "outputs": []
    },
    {
      "cell_type": "code",
      "metadata": {
        "id": "2IRQvZ-Qqobj",
        "colab_type": "code",
        "colab": {}
      },
      "source": [
        "salary_korea.shape"
      ],
      "execution_count": null,
      "outputs": []
    },
    {
      "cell_type": "code",
      "metadata": {
        "id": "tvuLu5C4qpry",
        "colab_type": "code",
        "colab": {}
      },
      "source": [
        "salary_korea[salary_korea['GenderSelect'] == 'Female']"
      ],
      "execution_count": null,
      "outputs": []
    },
    {
      "cell_type": "code",
      "metadata": {
        "id": "6hzuF8Qiqq9V",
        "colab_type": "code",
        "colab": {}
      },
      "source": [
        "salary_korea_male = salary_korea[\n",
        "    salary_korea['GenderSelect']== 'Male']\n",
        "salary_korea_male['Salary'].describe()"
      ],
      "execution_count": null,
      "outputs": []
    },
    {
      "cell_type": "code",
      "metadata": {
        "id": "WD2hGc0YqsOb",
        "colab_type": "code",
        "colab": {}
      },
      "source": [
        "salary_korea_male"
      ],
      "execution_count": null,
      "outputs": []
    },
    {
      "cell_type": "markdown",
      "metadata": {
        "id": "xWnszzFLqwZ8",
        "colab_type": "text"
      },
      "source": [
        "Q9. 개인프로젝트나 학습용 데이터를 어디에서 얻나요?"
      ]
    },
    {
      "cell_type": "code",
      "metadata": {
        "id": "kymbjkqsqxo_",
        "colab_type": "code",
        "colab": {}
      },
      "source": [
        "mcq['PublicDatasetsSelect'] = mcq[\n",
        "    'PublicDatasetsSelect'].astype('str').apply(\n",
        "    lambda x: x.split(',')\n",
        "    )"
      ],
      "execution_count": null,
      "outputs": []
    },
    {
      "cell_type": "code",
      "metadata": {
        "id": "J_7aiwa7qzII",
        "colab_type": "code",
        "colab": {}
      },
      "source": [
        "q = mcq.apply(\n",
        "    lambda x: pd.Series(x['PublicDatasetsSelect']),\n",
        "    axis=1).stack().reset_index(level=1, drop=True)\n",
        "\n",
        "q.name = 'courses'"
      ],
      "execution_count": null,
      "outputs": []
    },
    {
      "cell_type": "code",
      "metadata": {
        "id": "z9EAgMXtq0cG",
        "colab_type": "code",
        "colab": {}
      },
      "source": [
        "q = q[q != 'nan'].value_counts()"
      ],
      "execution_count": null,
      "outputs": []
    },
    {
      "cell_type": "code",
      "metadata": {
        "id": "trxBYcUXq1jD",
        "colab_type": "code",
        "colab": {}
      },
      "source": [
        "pd.DataFrame(q)"
      ],
      "execution_count": null,
      "outputs": []
    },
    {
      "cell_type": "code",
      "metadata": {
        "id": "1SNZoVrkq3Nu",
        "colab_type": "code",
        "colab": {}
      },
      "source": [
        "plt.title(\"Most Popular Dataset Platforms\")\n",
        "sns.barplot(y=q.index, x=q)"
      ],
      "execution_count": null,
      "outputs": []
    },
    {
      "cell_type": "code",
      "metadata": {
        "id": "T1rmSVHGq427",
        "colab_type": "code",
        "colab": {}
      },
      "source": [
        "# 주관식 응답을 읽어온다.\n",
        "ff = pd.read_csv('data/freeformResponses.csv', \n",
        "                 encoding=\"ISO-8859-1\", low_memory=False)\n",
        "ff.shape"
      ],
      "execution_count": null,
      "outputs": []
    },
    {
      "cell_type": "code",
      "metadata": {
        "id": "nauEo29dq6-V",
        "colab_type": "code",
        "colab": {}
      },
      "source": [
        "# 설문내용과 누구에게 물어봤는지를 찾아봄\n",
        "qc = question.loc[question[\n",
        "    'Column'].str.contains('PersonalProjectsChallengeFreeForm')]\n",
        "print(qc.shape)\n",
        "qc.Question.values[0]"
      ],
      "execution_count": null,
      "outputs": []
    },
    {
      "cell_type": "code",
      "metadata": {
        "id": "LY28JfeYq-sY",
        "colab_type": "code",
        "colab": {}
      },
      "source": [
        "#개인프로젝트에서 공개된 데이터셋을 사용하는데 가장 어려운 점\n",
        "ppcff = ff[\n",
        "    'PersonalProjectsChallengeFreeForm'].value_counts().head(15)\n",
        "ppcff.name = '응답 수'\n",
        "pd.DataFrame(ppcff)"
      ],
      "execution_count": null,
      "outputs": []
    },
    {
      "cell_type": "markdown",
      "metadata": {
        "id": "7p15wZcDq_lI",
        "colab_type": "text"
      },
      "source": [
        "Q10. 데이터 사이언스 업무에서 가장 많은 시간을 필요로 하는 일은"
      ]
    },
    {
      "cell_type": "code",
      "metadata": {
        "id": "n00hAdoLrBSg",
        "colab_type": "code",
        "colab": {}
      },
      "source": [
        "time_features = [\n",
        "    x for x in mcq.columns if x.find('Time') != -1][4:10]"
      ],
      "execution_count": null,
      "outputs": []
    },
    {
      "cell_type": "code",
      "metadata": {
        "id": "oiglBJL5rD3j",
        "colab_type": "code",
        "colab": {}
      },
      "source": [
        "tdf = {}\n",
        "for feature in time_features:\n",
        "    tdf[feature[len('Time'):]] = mcq[feature].mean()\n",
        "\n",
        "tdf = pd.Series(tdf)\n",
        "print(tdf)\n",
        "print()\n",
        "\n",
        "plt.pie(tdf, labels=tdf.index, \n",
        "        autopct='%1.1f%%', shadow=True, startangle=140)\n",
        "plt.axis('equal')\n",
        "plt.title(\"Percentage of Time Spent on Each DS Job\")\n",
        "plt.show()"
      ],
      "execution_count": null,
      "outputs": []
    },
    {
      "cell_type": "markdown",
      "metadata": {
        "id": "caUd6zpfrF4q",
        "colab_type": "text"
      },
      "source": [
        "Q11. 데이터사이언스 직업을 찾는데 가장 고려해야 할 요소는 무엇일까요?"
      ]
    },
    {
      "cell_type": "code",
      "metadata": {
        "id": "DtIfhDC3rIWY",
        "colab_type": "code",
        "colab": {}
      },
      "source": [
        "# 설문내용과 누구에게 물어봤는지를 찾아봄\n",
        "qc = question.loc[question[\n",
        "    'Column'].str.contains('JobFactor')]\n",
        "print(qc.shape)\n",
        "qc.Question.values"
      ],
      "execution_count": null,
      "outputs": []
    },
    {
      "cell_type": "code",
      "metadata": {
        "id": "Mk5-LFANrKQU",
        "colab_type": "code",
        "colab": {}
      },
      "source": [
        "job_factors = [\n",
        "    x for x in mcq.columns if x.find('JobFactor') != -1]"
      ],
      "execution_count": null,
      "outputs": []
    },
    {
      "cell_type": "code",
      "metadata": {
        "id": "mUnNojiGrMw4",
        "colab_type": "code",
        "colab": {}
      },
      "source": [
        "jfdf = {}\n",
        "for feature in job_factors:\n",
        "    a = mcq[feature].value_counts()\n",
        "    a = a/a.sum()\n",
        "    jfdf[feature[len('JobFactor'):]] = a\n",
        "\n",
        "jfdf = pd.DataFrame(jfdf).transpose()\n",
        "\n",
        "plt.figure(figsize=(6,10))\n",
        "plt.xticks(rotation=60, ha='right')\n",
        "sns.heatmap(jfdf.sort_values('Very Important', \n",
        "                             ascending=False), annot=True)"
      ],
      "execution_count": null,
      "outputs": []
    },
    {
      "cell_type": "code",
      "metadata": {
        "id": "35vjeu4rrOHj",
        "colab_type": "code",
        "colab": {}
      },
      "source": [
        "jfdf.plot(kind='bar', figsize=(18,6), \n",
        "          title=\"Things to look for while considering Data Science Jobs\")\n",
        "plt.xticks(rotation=60, ha='right')\n",
        "plt.show()"
      ],
      "execution_count": null,
      "outputs": []
    },
    {
      "cell_type": "markdown",
      "metadata": {
        "id": "P5ri-yKbrQC9",
        "colab_type": "text"
      },
      "source": [
        "Q12. 데이터 사이언티스트가 되기 위해 학위가 중요할까요?"
      ]
    },
    {
      "cell_type": "code",
      "metadata": {
        "id": "axJDf2GsrX7i",
        "colab_type": "code",
        "colab": {}
      },
      "source": [
        "ns.countplot(y='UniversityImportance', data=mcq)"
      ],
      "execution_count": null,
      "outputs": []
    },
    {
      "cell_type": "code",
      "metadata": {
        "id": "1XkUsuTJraCq",
        "colab_type": "code",
        "colab": {}
      },
      "source": [
        "#연령대별로\n",
        "import plotly.offline as py\n",
        "py.init_notebook_mode(connected=True)\n",
        "import plotly.figure_factory as fig_fact\n",
        "\n",
        "top_uni = mcq['UniversityImportance'].value_counts().head(5)\n",
        "top_uni_dist = []\n",
        "for uni in top_uni.index:\n",
        "    top_uni_dist.append(\n",
        "        mcq[(mcq['Age'].notnull()) & \\\n",
        "            (mcq['UniversityImportance'] == uni)]['Age'])\n",
        "\n",
        "group_labels = top_uni.index\n",
        "\n",
        "fig = fig_fact.create_distplot(\n",
        "    top_uni_dist, group_labels, show_hist=False)\n",
        "py.iplot(fig, filename='University Importance by Age')"
      ],
      "execution_count": null,
      "outputs": []
    },
    {
      "cell_type": "markdown",
      "metadata": {
        "id": "ndGRa10-rbfA",
        "colab_type": "text"
      },
      "source": [
        "Q13. 어디에서 부터 데이터사이언스를 시작해야 할까요?"
      ]
    },
    {
      "cell_type": "code",
      "metadata": {
        "id": "17wpwdDvre-l",
        "colab_type": "code",
        "colab": {}
      },
      "source": [
        "mcq[mcq['FirstTrainingSelect'].notnull()].shape"
      ],
      "execution_count": null,
      "outputs": []
    },
    {
      "cell_type": "code",
      "metadata": {
        "id": "AkoWl619rgW2",
        "colab_type": "code",
        "colab": {}
      },
      "source": [
        "sns.countplot(y='FirstTrainingSelect', data=mcq)"
      ],
      "execution_count": null,
      "outputs": []
    },
    {
      "cell_type": "markdown",
      "metadata": {
        "id": "fSusrt8frhXv",
        "colab_type": "text"
      },
      "source": [
        "Q14. 데이터사이언티스트 이력서에서 가장 중요한 것은 무엇일까요?"
      ]
    },
    {
      "cell_type": "code",
      "metadata": {
        "id": "X-n6oPcnrizO",
        "colab_type": "code",
        "colab": {}
      },
      "source": [
        "sns.countplot(y='ProveKnowledgeSelect', data=mcq)"
      ],
      "execution_count": null,
      "outputs": []
    },
    {
      "cell_type": "markdown",
      "metadata": {
        "id": "WfSsyvahrkWt",
        "colab_type": "text"
      },
      "source": [
        "Q15. 머신러닝 알고리즘을 사용하기 위해 수학이 필요할까요?¶"
      ]
    },
    {
      "cell_type": "code",
      "metadata": {
        "id": "1z81VoB-rmWI",
        "colab_type": "code",
        "colab": {}
      },
      "source": [
        "# 설문내용과 누구에게 물어봤는지를 찾아봄\n",
        "qc = question.loc[question[\n",
        "    'Column'].str.contains('AlgorithmUnderstandingLevel')]\n",
        "qc"
      ],
      "execution_count": null,
      "outputs": []
    },
    {
      "cell_type": "code",
      "metadata": {
        "id": "9x70QXWSrozU",
        "colab_type": "code",
        "colab": {}
      },
      "source": [
        "mcq[mcq['AlgorithmUnderstandingLevel'].notnull()].shape"
      ],
      "execution_count": null,
      "outputs": []
    },
    {
      "cell_type": "code",
      "metadata": {
        "id": "_v8GfYcArre0",
        "colab_type": "code",
        "colab": {}
      },
      "source": [
        "sns.countplot(y='AlgorithmUnderstandingLevel', data=mcq)"
      ],
      "execution_count": null,
      "outputs": []
    },
    {
      "cell_type": "markdown",
      "metadata": {
        "id": "PxU_2wvJrt0g",
        "colab_type": "text"
      },
      "source": [
        "Q16. 어디에서 일을 찾아야 할까요?"
      ]
    },
    {
      "cell_type": "code",
      "metadata": {
        "id": "N7onVoYLrwQI",
        "colab_type": "code",
        "colab": {}
      },
      "source": [
        "# 설문내용과 누구에게 물어봤는지를 찾아봄\n",
        "question.loc[question[\n",
        "    'Column'].str.contains(\n",
        "    'JobSearchResource|EmployerSearchMethod')]"
      ],
      "execution_count": null,
      "outputs": []
    },
    {
      "cell_type": "code",
      "metadata": {
        "id": "gauFTj3yrxah",
        "colab_type": "code",
        "colab": {}
      },
      "source": [
        "plt.title(\"Best Places to look for a Data Science Job\")\n",
        "sns.countplot(y='JobSearchResource', data=mcq)"
      ],
      "execution_count": null,
      "outputs": []
    },
    {
      "cell_type": "code",
      "metadata": {
        "id": "jXF2xFLlry9m",
        "colab_type": "code",
        "colab": {}
      },
      "source": [
        "plt.title(\"Top Places to get Data Science Jobs\")\n",
        "sns.countplot(y='EmployerSearchMethod', data=mcq)"
      ],
      "execution_count": null,
      "outputs": []
    },
    {
      "cell_type": "code",
      "metadata": {
        "id": "Aydx-6Oxr2nX",
        "colab_type": "code",
        "colab": {}
      },
      "source": [
        "#한국은?\n",
        "plt.title(\"Best Places to look for a Data Science Job\")\n",
        "sns.countplot(y='JobSearchResource', data=korea)"
      ],
      "execution_count": null,
      "outputs": []
    },
    {
      "cell_type": "code",
      "metadata": {
        "id": "VMvb-bT6r52w",
        "colab_type": "code",
        "colab": {}
      },
      "source": [
        "plt.title(\"Top Places to get Data Science Jobs\")\n",
        "sns.countplot(y='EmployerSearchMethod', data=korea)"
      ],
      "execution_count": null,
      "outputs": []
    }
  ]
}